{
  "nbformat": 4,
  "nbformat_minor": 0,
  "metadata": {
    "colab": {
      "provenance": []
    },
    "kernelspec": {
      "name": "python3",
      "display_name": "Python 3"
    },
    "language_info": {
      "name": "python"
    }
  },
  "cells": [
    {
      "cell_type": "markdown",
      "source": [
        "Importing Required datasets"
      ],
      "metadata": {
        "id": "kTeKKBUerbZD"
      }
    },
    {
      "cell_type": "code",
      "source": [
        "!pip install stellargraph"
      ],
      "metadata": {
        "colab": {
          "base_uri": "https://localhost:8080/"
        },
        "id": "FaS37hMRucdq",
        "outputId": "c830a297-b34f-46f4-be76-49ad84339e87"
      },
      "execution_count": 1,
      "outputs": [
        {
          "output_type": "stream",
          "name": "stdout",
          "text": [
            "Looking in indexes: https://pypi.org/simple, https://us-python.pkg.dev/colab-wheels/public/simple/\n",
            "Collecting stellargraph\n",
            "  Downloading stellargraph-1.2.1-py3-none-any.whl (435 kB)\n",
            "\u001b[K     |████████████████████████████████| 435 kB 5.5 MB/s \n",
            "\u001b[?25hRequirement already satisfied: networkx>=2.2 in /usr/local/lib/python3.8/dist-packages (from stellargraph) (2.6.3)\n",
            "Requirement already satisfied: scikit-learn>=0.20 in /usr/local/lib/python3.8/dist-packages (from stellargraph) (1.0.2)\n",
            "Requirement already satisfied: pandas>=0.24 in /usr/local/lib/python3.8/dist-packages (from stellargraph) (1.3.5)\n",
            "Requirement already satisfied: scipy>=1.1.0 in /usr/local/lib/python3.8/dist-packages (from stellargraph) (1.7.3)\n",
            "Requirement already satisfied: numpy>=1.14 in /usr/local/lib/python3.8/dist-packages (from stellargraph) (1.21.6)\n",
            "Requirement already satisfied: tensorflow>=2.1.0 in /usr/local/lib/python3.8/dist-packages (from stellargraph) (2.9.2)\n",
            "Requirement already satisfied: matplotlib>=2.2 in /usr/local/lib/python3.8/dist-packages (from stellargraph) (3.2.2)\n",
            "Requirement already satisfied: gensim>=3.4.0 in /usr/local/lib/python3.8/dist-packages (from stellargraph) (3.6.0)\n",
            "Requirement already satisfied: smart-open>=1.2.1 in /usr/local/lib/python3.8/dist-packages (from gensim>=3.4.0->stellargraph) (5.2.1)\n",
            "Requirement already satisfied: six>=1.5.0 in /usr/local/lib/python3.8/dist-packages (from gensim>=3.4.0->stellargraph) (1.15.0)\n",
            "Requirement already satisfied: pyparsing!=2.0.4,!=2.1.2,!=2.1.6,>=2.0.1 in /usr/local/lib/python3.8/dist-packages (from matplotlib>=2.2->stellargraph) (3.0.9)\n",
            "Requirement already satisfied: kiwisolver>=1.0.1 in /usr/local/lib/python3.8/dist-packages (from matplotlib>=2.2->stellargraph) (1.4.4)\n",
            "Requirement already satisfied: python-dateutil>=2.1 in /usr/local/lib/python3.8/dist-packages (from matplotlib>=2.2->stellargraph) (2.8.2)\n",
            "Requirement already satisfied: cycler>=0.10 in /usr/local/lib/python3.8/dist-packages (from matplotlib>=2.2->stellargraph) (0.11.0)\n",
            "Requirement already satisfied: pytz>=2017.3 in /usr/local/lib/python3.8/dist-packages (from pandas>=0.24->stellargraph) (2022.6)\n",
            "Requirement already satisfied: threadpoolctl>=2.0.0 in /usr/local/lib/python3.8/dist-packages (from scikit-learn>=0.20->stellargraph) (3.1.0)\n",
            "Requirement already satisfied: joblib>=0.11 in /usr/local/lib/python3.8/dist-packages (from scikit-learn>=0.20->stellargraph) (1.2.0)\n",
            "Requirement already satisfied: setuptools in /usr/local/lib/python3.8/dist-packages (from tensorflow>=2.1.0->stellargraph) (57.4.0)\n",
            "Requirement already satisfied: keras-preprocessing>=1.1.1 in /usr/local/lib/python3.8/dist-packages (from tensorflow>=2.1.0->stellargraph) (1.1.2)\n",
            "Requirement already satisfied: gast<=0.4.0,>=0.2.1 in /usr/local/lib/python3.8/dist-packages (from tensorflow>=2.1.0->stellargraph) (0.4.0)\n",
            "Requirement already satisfied: keras<2.10.0,>=2.9.0rc0 in /usr/local/lib/python3.8/dist-packages (from tensorflow>=2.1.0->stellargraph) (2.9.0)\n",
            "Requirement already satisfied: absl-py>=1.0.0 in /usr/local/lib/python3.8/dist-packages (from tensorflow>=2.1.0->stellargraph) (1.3.0)\n",
            "Requirement already satisfied: libclang>=13.0.0 in /usr/local/lib/python3.8/dist-packages (from tensorflow>=2.1.0->stellargraph) (14.0.6)\n",
            "Requirement already satisfied: tensorboard<2.10,>=2.9 in /usr/local/lib/python3.8/dist-packages (from tensorflow>=2.1.0->stellargraph) (2.9.1)\n",
            "Requirement already satisfied: tensorflow-io-gcs-filesystem>=0.23.1 in /usr/local/lib/python3.8/dist-packages (from tensorflow>=2.1.0->stellargraph) (0.28.0)\n",
            "Requirement already satisfied: typing-extensions>=3.6.6 in /usr/local/lib/python3.8/dist-packages (from tensorflow>=2.1.0->stellargraph) (4.1.1)\n",
            "Requirement already satisfied: wrapt>=1.11.0 in /usr/local/lib/python3.8/dist-packages (from tensorflow>=2.1.0->stellargraph) (1.14.1)\n",
            "Requirement already satisfied: opt-einsum>=2.3.2 in /usr/local/lib/python3.8/dist-packages (from tensorflow>=2.1.0->stellargraph) (3.3.0)\n",
            "Requirement already satisfied: astunparse>=1.6.0 in /usr/local/lib/python3.8/dist-packages (from tensorflow>=2.1.0->stellargraph) (1.6.3)\n",
            "Requirement already satisfied: protobuf<3.20,>=3.9.2 in /usr/local/lib/python3.8/dist-packages (from tensorflow>=2.1.0->stellargraph) (3.19.6)\n",
            "Requirement already satisfied: packaging in /usr/local/lib/python3.8/dist-packages (from tensorflow>=2.1.0->stellargraph) (21.3)\n",
            "Requirement already satisfied: h5py>=2.9.0 in /usr/local/lib/python3.8/dist-packages (from tensorflow>=2.1.0->stellargraph) (3.1.0)\n",
            "Requirement already satisfied: grpcio<2.0,>=1.24.3 in /usr/local/lib/python3.8/dist-packages (from tensorflow>=2.1.0->stellargraph) (1.50.0)\n",
            "Requirement already satisfied: tensorflow-estimator<2.10.0,>=2.9.0rc0 in /usr/local/lib/python3.8/dist-packages (from tensorflow>=2.1.0->stellargraph) (2.9.0)\n",
            "Requirement already satisfied: flatbuffers<2,>=1.12 in /usr/local/lib/python3.8/dist-packages (from tensorflow>=2.1.0->stellargraph) (1.12)\n",
            "Requirement already satisfied: termcolor>=1.1.0 in /usr/local/lib/python3.8/dist-packages (from tensorflow>=2.1.0->stellargraph) (2.1.1)\n",
            "Requirement already satisfied: google-pasta>=0.1.1 in /usr/local/lib/python3.8/dist-packages (from tensorflow>=2.1.0->stellargraph) (0.2.0)\n",
            "Requirement already satisfied: wheel<1.0,>=0.23.0 in /usr/local/lib/python3.8/dist-packages (from astunparse>=1.6.0->tensorflow>=2.1.0->stellargraph) (0.38.4)\n",
            "Requirement already satisfied: markdown>=2.6.8 in /usr/local/lib/python3.8/dist-packages (from tensorboard<2.10,>=2.9->tensorflow>=2.1.0->stellargraph) (3.4.1)\n",
            "Requirement already satisfied: google-auth<3,>=1.6.3 in /usr/local/lib/python3.8/dist-packages (from tensorboard<2.10,>=2.9->tensorflow>=2.1.0->stellargraph) (2.14.1)\n",
            "Requirement already satisfied: requests<3,>=2.21.0 in /usr/local/lib/python3.8/dist-packages (from tensorboard<2.10,>=2.9->tensorflow>=2.1.0->stellargraph) (2.23.0)\n",
            "Requirement already satisfied: google-auth-oauthlib<0.5,>=0.4.1 in /usr/local/lib/python3.8/dist-packages (from tensorboard<2.10,>=2.9->tensorflow>=2.1.0->stellargraph) (0.4.6)\n",
            "Requirement already satisfied: tensorboard-plugin-wit>=1.6.0 in /usr/local/lib/python3.8/dist-packages (from tensorboard<2.10,>=2.9->tensorflow>=2.1.0->stellargraph) (1.8.1)\n",
            "Requirement already satisfied: tensorboard-data-server<0.7.0,>=0.6.0 in /usr/local/lib/python3.8/dist-packages (from tensorboard<2.10,>=2.9->tensorflow>=2.1.0->stellargraph) (0.6.1)\n",
            "Requirement already satisfied: werkzeug>=1.0.1 in /usr/local/lib/python3.8/dist-packages (from tensorboard<2.10,>=2.9->tensorflow>=2.1.0->stellargraph) (1.0.1)\n",
            "Requirement already satisfied: rsa<5,>=3.1.4 in /usr/local/lib/python3.8/dist-packages (from google-auth<3,>=1.6.3->tensorboard<2.10,>=2.9->tensorflow>=2.1.0->stellargraph) (4.9)\n",
            "Requirement already satisfied: pyasn1-modules>=0.2.1 in /usr/local/lib/python3.8/dist-packages (from google-auth<3,>=1.6.3->tensorboard<2.10,>=2.9->tensorflow>=2.1.0->stellargraph) (0.2.8)\n",
            "Requirement already satisfied: cachetools<6.0,>=2.0.0 in /usr/local/lib/python3.8/dist-packages (from google-auth<3,>=1.6.3->tensorboard<2.10,>=2.9->tensorflow>=2.1.0->stellargraph) (5.2.0)\n",
            "Requirement already satisfied: requests-oauthlib>=0.7.0 in /usr/local/lib/python3.8/dist-packages (from google-auth-oauthlib<0.5,>=0.4.1->tensorboard<2.10,>=2.9->tensorflow>=2.1.0->stellargraph) (1.3.1)\n",
            "Requirement already satisfied: importlib-metadata>=4.4 in /usr/local/lib/python3.8/dist-packages (from markdown>=2.6.8->tensorboard<2.10,>=2.9->tensorflow>=2.1.0->stellargraph) (4.13.0)\n",
            "Requirement already satisfied: zipp>=0.5 in /usr/local/lib/python3.8/dist-packages (from importlib-metadata>=4.4->markdown>=2.6.8->tensorboard<2.10,>=2.9->tensorflow>=2.1.0->stellargraph) (3.10.0)\n",
            "Requirement already satisfied: pyasn1<0.5.0,>=0.4.6 in /usr/local/lib/python3.8/dist-packages (from pyasn1-modules>=0.2.1->google-auth<3,>=1.6.3->tensorboard<2.10,>=2.9->tensorflow>=2.1.0->stellargraph) (0.4.8)\n",
            "Requirement already satisfied: urllib3!=1.25.0,!=1.25.1,<1.26,>=1.21.1 in /usr/local/lib/python3.8/dist-packages (from requests<3,>=2.21.0->tensorboard<2.10,>=2.9->tensorflow>=2.1.0->stellargraph) (1.24.3)\n",
            "Requirement already satisfied: chardet<4,>=3.0.2 in /usr/local/lib/python3.8/dist-packages (from requests<3,>=2.21.0->tensorboard<2.10,>=2.9->tensorflow>=2.1.0->stellargraph) (3.0.4)\n",
            "Requirement already satisfied: certifi>=2017.4.17 in /usr/local/lib/python3.8/dist-packages (from requests<3,>=2.21.0->tensorboard<2.10,>=2.9->tensorflow>=2.1.0->stellargraph) (2022.9.24)\n",
            "Requirement already satisfied: idna<3,>=2.5 in /usr/local/lib/python3.8/dist-packages (from requests<3,>=2.21.0->tensorboard<2.10,>=2.9->tensorflow>=2.1.0->stellargraph) (2.10)\n",
            "Requirement already satisfied: oauthlib>=3.0.0 in /usr/local/lib/python3.8/dist-packages (from requests-oauthlib>=0.7.0->google-auth-oauthlib<0.5,>=0.4.1->tensorboard<2.10,>=2.9->tensorflow>=2.1.0->stellargraph) (3.2.2)\n",
            "Installing collected packages: stellargraph\n",
            "Successfully installed stellargraph-1.2.1\n"
          ]
        }
      ]
    },
    {
      "cell_type": "code",
      "execution_count": 2,
      "metadata": {
        "id": "k4qi-KSeiAGg",
        "colab": {
          "base_uri": "https://localhost:8080/"
        },
        "outputId": "df3cbccc-e5cb-4190-a8fa-711ce9f7d458"
      },
      "outputs": [
        {
          "output_type": "stream",
          "name": "stderr",
          "text": [
            "[nltk_data] Downloading package stopwords to /root/nltk_data...\n",
            "[nltk_data]   Unzipping corpora/stopwords.zip.\n"
          ]
        }
      ],
      "source": [
        "import pandas as pd\n",
        "from sklearn import model_selection\n",
        "import tensorflow as tf\n",
        "import pandas as pd\n",
        "import os\n",
        "\n",
        "import stellargraph as sg\n",
        "from stellargraph.mapper import FullBatchNodeGenerator\n",
        "from stellargraph.layer import GCN\n",
        "\n",
        "from tensorflow.keras import layers, optimizers, losses, metrics, Model\n",
        "from sklearn import preprocessing, model_selection\n",
        "from IPython.display import display, HTML\n",
        "import matplotlib.pyplot as plt\n",
        "%matplotlib inline\n",
        "import string\n",
        "import nltk\n",
        "import sklearn\n",
        "nltk.download('stopwords')\n",
        "from nltk.corpus import stopwords\n",
        "from sklearn.feature_extraction.text import CountVectorizer\n",
        "vectorizer = CountVectorizer()\n",
        "import os\n",
        "import random\n",
        "import numpy as np\n",
        "import pickle as pkl\n",
        "import networkx as nx\n",
        "import scipy.sparse as sp\n",
        "from math import log\n",
        "from sklearn import svm\n",
        "from nltk.corpus import wordnet as wn\n",
        "from sklearn.feature_extraction.text import TfidfVectorizer\n",
        "import sys\n",
        "from scipy.spatial.distance import cosine\n",
        "from sklearn.metrics.pairwise import cosine_similarity\n",
        "import heapq\n",
        "from stellargraph.mapper import CorruptedGenerator, FullBatchNodeGenerator\n",
        "from stellargraph.layer import GCN, DeepGraphInfomax\n",
        "import tensorflow as tf\n",
        "from tensorflow.keras import Model, layers, optimizers, callbacks"
      ]
    },
    {
      "cell_type": "markdown",
      "source": [
        "loading the dataset into a dataframe"
      ],
      "metadata": {
        "id": "1wpTCi-3sYvP"
      }
    },
    {
      "cell_type": "code",
      "source": [
        "with open(\"data.json\") as f:\n",
        "    content = f.readlines()\n",
        "\n",
        "df = [eval(c) for c in content]\n",
        "df = pd.DataFrame(df)\n",
        "\n",
        "df.drop(['article_link'],axis=1)\n"
      ],
      "metadata": {
        "colab": {
          "base_uri": "https://localhost:8080/",
          "height": 424
        },
        "id": "YcbvW3aNiR_h",
        "outputId": "a1cb9a72-0f3d-4de1-f115-1b36605cefd2"
      },
      "execution_count": 3,
      "outputs": [
        {
          "output_type": "execute_result",
          "data": {
            "text/plain": [
              "                                               headline  is_sarcastic\n",
              "0     former versace store clerk sues over secret 'b...             0\n",
              "1     the 'roseanne' revival catches up to our thorn...             0\n",
              "2     mom starting to fear son's web series closest ...             1\n",
              "3     boehner just wants wife to listen, not come up...             1\n",
              "4     j.k. rowling wishes snape happy birthday in th...             0\n",
              "...                                                 ...           ...\n",
              "1495  seasonal depression to take over for chronic d...             1\n",
              "1496  6 older celebs who stole the show at the golde...             0\n",
              "1497                                 thank you, america             0\n",
              "1498  man wearing sunglasses upside down on back of ...             1\n",
              "1499  rand paul eats up hoax that john mccain met wi...             0\n",
              "\n",
              "[1500 rows x 2 columns]"
            ],
            "text/html": [
              "\n",
              "  <div id=\"df-0dd5c295-95c8-4c5b-8f3d-b6f6401905cd\">\n",
              "    <div class=\"colab-df-container\">\n",
              "      <div>\n",
              "<style scoped>\n",
              "    .dataframe tbody tr th:only-of-type {\n",
              "        vertical-align: middle;\n",
              "    }\n",
              "\n",
              "    .dataframe tbody tr th {\n",
              "        vertical-align: top;\n",
              "    }\n",
              "\n",
              "    .dataframe thead th {\n",
              "        text-align: right;\n",
              "    }\n",
              "</style>\n",
              "<table border=\"1\" class=\"dataframe\">\n",
              "  <thead>\n",
              "    <tr style=\"text-align: right;\">\n",
              "      <th></th>\n",
              "      <th>headline</th>\n",
              "      <th>is_sarcastic</th>\n",
              "    </tr>\n",
              "  </thead>\n",
              "  <tbody>\n",
              "    <tr>\n",
              "      <th>0</th>\n",
              "      <td>former versace store clerk sues over secret 'b...</td>\n",
              "      <td>0</td>\n",
              "    </tr>\n",
              "    <tr>\n",
              "      <th>1</th>\n",
              "      <td>the 'roseanne' revival catches up to our thorn...</td>\n",
              "      <td>0</td>\n",
              "    </tr>\n",
              "    <tr>\n",
              "      <th>2</th>\n",
              "      <td>mom starting to fear son's web series closest ...</td>\n",
              "      <td>1</td>\n",
              "    </tr>\n",
              "    <tr>\n",
              "      <th>3</th>\n",
              "      <td>boehner just wants wife to listen, not come up...</td>\n",
              "      <td>1</td>\n",
              "    </tr>\n",
              "    <tr>\n",
              "      <th>4</th>\n",
              "      <td>j.k. rowling wishes snape happy birthday in th...</td>\n",
              "      <td>0</td>\n",
              "    </tr>\n",
              "    <tr>\n",
              "      <th>...</th>\n",
              "      <td>...</td>\n",
              "      <td>...</td>\n",
              "    </tr>\n",
              "    <tr>\n",
              "      <th>1495</th>\n",
              "      <td>seasonal depression to take over for chronic d...</td>\n",
              "      <td>1</td>\n",
              "    </tr>\n",
              "    <tr>\n",
              "      <th>1496</th>\n",
              "      <td>6 older celebs who stole the show at the golde...</td>\n",
              "      <td>0</td>\n",
              "    </tr>\n",
              "    <tr>\n",
              "      <th>1497</th>\n",
              "      <td>thank you, america</td>\n",
              "      <td>0</td>\n",
              "    </tr>\n",
              "    <tr>\n",
              "      <th>1498</th>\n",
              "      <td>man wearing sunglasses upside down on back of ...</td>\n",
              "      <td>1</td>\n",
              "    </tr>\n",
              "    <tr>\n",
              "      <th>1499</th>\n",
              "      <td>rand paul eats up hoax that john mccain met wi...</td>\n",
              "      <td>0</td>\n",
              "    </tr>\n",
              "  </tbody>\n",
              "</table>\n",
              "<p>1500 rows × 2 columns</p>\n",
              "</div>\n",
              "      <button class=\"colab-df-convert\" onclick=\"convertToInteractive('df-0dd5c295-95c8-4c5b-8f3d-b6f6401905cd')\"\n",
              "              title=\"Convert this dataframe to an interactive table.\"\n",
              "              style=\"display:none;\">\n",
              "        \n",
              "  <svg xmlns=\"http://www.w3.org/2000/svg\" height=\"24px\"viewBox=\"0 0 24 24\"\n",
              "       width=\"24px\">\n",
              "    <path d=\"M0 0h24v24H0V0z\" fill=\"none\"/>\n",
              "    <path d=\"M18.56 5.44l.94 2.06.94-2.06 2.06-.94-2.06-.94-.94-2.06-.94 2.06-2.06.94zm-11 1L8.5 8.5l.94-2.06 2.06-.94-2.06-.94L8.5 2.5l-.94 2.06-2.06.94zm10 10l.94 2.06.94-2.06 2.06-.94-2.06-.94-.94-2.06-.94 2.06-2.06.94z\"/><path d=\"M17.41 7.96l-1.37-1.37c-.4-.4-.92-.59-1.43-.59-.52 0-1.04.2-1.43.59L10.3 9.45l-7.72 7.72c-.78.78-.78 2.05 0 2.83L4 21.41c.39.39.9.59 1.41.59.51 0 1.02-.2 1.41-.59l7.78-7.78 2.81-2.81c.8-.78.8-2.07 0-2.86zM5.41 20L4 18.59l7.72-7.72 1.47 1.35L5.41 20z\"/>\n",
              "  </svg>\n",
              "      </button>\n",
              "      \n",
              "  <style>\n",
              "    .colab-df-container {\n",
              "      display:flex;\n",
              "      flex-wrap:wrap;\n",
              "      gap: 12px;\n",
              "    }\n",
              "\n",
              "    .colab-df-convert {\n",
              "      background-color: #E8F0FE;\n",
              "      border: none;\n",
              "      border-radius: 50%;\n",
              "      cursor: pointer;\n",
              "      display: none;\n",
              "      fill: #1967D2;\n",
              "      height: 32px;\n",
              "      padding: 0 0 0 0;\n",
              "      width: 32px;\n",
              "    }\n",
              "\n",
              "    .colab-df-convert:hover {\n",
              "      background-color: #E2EBFA;\n",
              "      box-shadow: 0px 1px 2px rgba(60, 64, 67, 0.3), 0px 1px 3px 1px rgba(60, 64, 67, 0.15);\n",
              "      fill: #174EA6;\n",
              "    }\n",
              "\n",
              "    [theme=dark] .colab-df-convert {\n",
              "      background-color: #3B4455;\n",
              "      fill: #D2E3FC;\n",
              "    }\n",
              "\n",
              "    [theme=dark] .colab-df-convert:hover {\n",
              "      background-color: #434B5C;\n",
              "      box-shadow: 0px 1px 3px 1px rgba(0, 0, 0, 0.15);\n",
              "      filter: drop-shadow(0px 1px 2px rgba(0, 0, 0, 0.3));\n",
              "      fill: #FFFFFF;\n",
              "    }\n",
              "  </style>\n",
              "\n",
              "      <script>\n",
              "        const buttonEl =\n",
              "          document.querySelector('#df-0dd5c295-95c8-4c5b-8f3d-b6f6401905cd button.colab-df-convert');\n",
              "        buttonEl.style.display =\n",
              "          google.colab.kernel.accessAllowed ? 'block' : 'none';\n",
              "\n",
              "        async function convertToInteractive(key) {\n",
              "          const element = document.querySelector('#df-0dd5c295-95c8-4c5b-8f3d-b6f6401905cd');\n",
              "          const dataTable =\n",
              "            await google.colab.kernel.invokeFunction('convertToInteractive',\n",
              "                                                     [key], {});\n",
              "          if (!dataTable) return;\n",
              "\n",
              "          const docLinkHtml = 'Like what you see? Visit the ' +\n",
              "            '<a target=\"_blank\" href=https://colab.research.google.com/notebooks/data_table.ipynb>data table notebook</a>'\n",
              "            + ' to learn more about interactive tables.';\n",
              "          element.innerHTML = '';\n",
              "          dataTable['output_type'] = 'display_data';\n",
              "          await google.colab.output.renderOutput(dataTable, element);\n",
              "          const docLink = document.createElement('div');\n",
              "          docLink.innerHTML = docLinkHtml;\n",
              "          element.appendChild(docLink);\n",
              "        }\n",
              "      </script>\n",
              "    </div>\n",
              "  </div>\n",
              "  "
            ]
          },
          "metadata": {},
          "execution_count": 3
        }
      ]
    },
    {
      "cell_type": "markdown",
      "source": [
        "Preprocessing the dataset "
      ],
      "metadata": {
        "id": "jCprKdiosgzk"
      }
    },
    {
      "cell_type": "code",
      "source": [
        "def message_cleaning(message):\n",
        "    Test_punc_removed = [char for char in message if char not in string.punctuation]\n",
        "    Test_punc_removed_join = ''.join(Test_punc_removed)\n",
        "    Test_punc_removed_join_clean = [word for word in Test_punc_removed_join.split() if word.lower() not in stopwords.words('english')]\n",
        "    return Test_punc_removed_join_clean"
      ],
      "metadata": {
        "id": "zjDHnsSWiaZz"
      },
      "execution_count": 4,
      "outputs": []
    },
    {
      "cell_type": "code",
      "source": [
        "clean_data=df['headline'].apply(message_cleaning)"
      ],
      "metadata": {
        "id": "57kAqhpmicRP"
      },
      "execution_count": 5,
      "outputs": []
    },
    {
      "cell_type": "code",
      "source": [
        "vectorizer = CountVectorizer(analyzer = message_cleaning)\n",
        "reviews_countvectorizer = vectorizer.fit_transform(clean_data)"
      ],
      "metadata": {
        "id": "fMaWyrowidof"
      },
      "execution_count": 6,
      "outputs": []
    },
    {
      "cell_type": "code",
      "source": [
        "list1=[]\n",
        "for i in clean_data:\n",
        "  new=\" \".join(i)\n",
        "  new=new.lower()\n",
        "  list1.append(new)\n",
        "df['headline']=list1"
      ],
      "metadata": {
        "id": "w84dduaMifDm"
      },
      "execution_count": 7,
      "outputs": []
    },
    {
      "cell_type": "code",
      "source": [
        "indices=[i for i in range(1500)]"
      ],
      "metadata": {
        "id": "M8vSaPpKii5r"
      },
      "execution_count": 8,
      "outputs": []
    },
    {
      "cell_type": "markdown",
      "source": [
        "Finding the tf-idf of the headlines"
      ],
      "metadata": {
        "id": "uniOjWlRs-Vc"
      }
    },
    {
      "cell_type": "code",
      "source": [
        "tfidf=TfidfVectorizer()\n",
        "result=tfidf.fit_transform(list1)\n",
        "df1=pd.DataFrame(result.toarray(),columns=tfidf.get_feature_names_out())"
      ],
      "metadata": {
        "id": "bd81bAYKik0H"
      },
      "execution_count": 9,
      "outputs": []
    },
    {
      "cell_type": "code",
      "source": [
        "df1.insert(0,\"node_id\",indices)"
      ],
      "metadata": {
        "id": "mbXVjQW7indH"
      },
      "execution_count": 10,
      "outputs": []
    },
    {
      "cell_type": "code",
      "source": [
        "df1 = df1.set_index(\"node_id\")"
      ],
      "metadata": {
        "id": "wqoVF2gUiqJK"
      },
      "execution_count": 11,
      "outputs": []
    },
    {
      "cell_type": "markdown",
      "source": [
        "Calculating the cosine similarity and building the graphs"
      ],
      "metadata": {
        "id": "sae9p4pUtEEk"
      }
    },
    {
      "cell_type": "code",
      "source": [
        "i=0\n",
        "source=[]\n",
        "target=[]\n",
        "weight=[]\n",
        "label = []\n",
        "while(i!=1500):\n",
        "  l1=cosine_similarity(result,result[i])\n",
        "  l2=np.array(l1)\n",
        "  l3=l1.tolist()\n",
        "  ind=heapq.nlargest(100,range(len(l2)),l2.take)\n",
        "  for j in ind:\n",
        "    source.append(i)\n",
        "    target.append(j)\n",
        "    weight.append(l3[j][0])\n",
        "    label.append(df['is_sarcastic'][i])\n",
        "  i=i+1"
      ],
      "metadata": {
        "id": "df-0h-bgivd-"
      },
      "execution_count": 12,
      "outputs": []
    },
    {
      "cell_type": "code",
      "source": [
        "edges = pd.DataFrame(\n",
        "    {\"source\": source, \"target\": target, \"weight\":weight}\n",
        ")"
      ],
      "metadata": {
        "id": "dK0f4CA-iwpq"
      },
      "execution_count": 13,
      "outputs": []
    },
    {
      "cell_type": "code",
      "source": [
        "labels = []\n",
        "for i in range(1500):\n",
        "  labels.append(df['is_sarcastic'][i])"
      ],
      "metadata": {
        "id": "ZnJq-n9Fizrj"
      },
      "execution_count": 14,
      "outputs": []
    },
    {
      "cell_type": "code",
      "source": [
        "df1['is_sarcastic']=labels"
      ],
      "metadata": {
        "id": "1o8c4rGki2Dy"
      },
      "execution_count": 15,
      "outputs": []
    },
    {
      "cell_type": "code",
      "source": [
        "graph = sg.StellarGraph(df1, edges)"
      ],
      "metadata": {
        "id": "vF-m0ciDi4VP"
      },
      "execution_count": 16,
      "outputs": []
    },
    {
      "cell_type": "code",
      "source": [
        "print(graph.info())"
      ],
      "metadata": {
        "colab": {
          "base_uri": "https://localhost:8080/"
        },
        "id": "ajF1_7Lqi5ky",
        "outputId": "41c1fd23-7617-4205-cd25-ff93339d17fe"
      },
      "execution_count": 17,
      "outputs": [
        {
          "output_type": "stream",
          "name": "stdout",
          "text": [
            "StellarGraph: Undirected multigraph\n",
            " Nodes: 1500, Edges: 150000\n",
            "\n",
            " Node types:\n",
            "  default: [1500]\n",
            "    Features: float32 vector, length 5468\n",
            "    Edge types: default-default->default\n",
            "\n",
            " Edge types:\n",
            "    default-default->default: [150000]\n",
            "        Weights: range=[0, 1], mean=0.0419053, std=0.109042\n",
            "        Features: none\n"
          ]
        }
      ]
    },
    {
      "cell_type": "markdown",
      "source": [
        "Data Generator"
      ],
      "metadata": {
        "id": "5dVMcM65tdn2"
      }
    },
    {
      "cell_type": "code",
      "source": [
        "fullbatch_generator = FullBatchNodeGenerator(graph)\n",
        "\n",
        "corrupted_generator = CorruptedGenerator(fullbatch_generator)\n",
        "gen = corrupted_generator.flow(graph.nodes())"
      ],
      "metadata": {
        "colab": {
          "base_uri": "https://localhost:8080/"
        },
        "id": "VFbFxHeai97l",
        "outputId": "7f429ad3-643d-4e8d-a032-b8381fb93966"
      },
      "execution_count": 18,
      "outputs": [
        {
          "output_type": "stream",
          "name": "stdout",
          "text": [
            "Using GCN (local pooling) filters...\n"
          ]
        }
      ]
    },
    {
      "cell_type": "markdown",
      "source": [
        "Model pretraining with Deep Graph Infomax"
      ],
      "metadata": {
        "id": "5PUq0VlHtwMW"
      }
    },
    {
      "cell_type": "code",
      "source": [
        "def make_gcn_model():\n",
        "    # function because we want to create a second one with the same parameters later\n",
        "    return GCN(\n",
        "        layer_sizes=[20, 20],\n",
        "        activations=[\"sigmoid\", \"sigmoid\"],\n",
        "        generator=fullbatch_generator,\n",
        "        dropout=0.6,\n",
        "    )\n",
        "\n",
        "\n",
        "pretrained_gcn_model = make_gcn_model()"
      ],
      "metadata": {
        "id": "aVVucvPBi_AO"
      },
      "execution_count": 19,
      "outputs": []
    },
    {
      "cell_type": "code",
      "source": [
        "infomax = DeepGraphInfomax(pretrained_gcn_model, corrupted_generator)\n",
        "x_in, x_out = infomax.in_out_tensors()\n",
        "\n",
        "dgi_model = Model(inputs=x_in, outputs=x_out)\n",
        "dgi_model.compile(\n",
        "    loss=tf.nn.sigmoid_cross_entropy_with_logits, optimizer=optimizers.Adam(learning_rate=1e-3)\n",
        ")\n",
        "#loss=losses.BinaryCrossentropy() - sus"
      ],
      "metadata": {
        "id": "w9qWb5vUjDiV"
      },
      "execution_count": 20,
      "outputs": []
    },
    {
      "cell_type": "code",
      "source": [
        "epochs = 100"
      ],
      "metadata": {
        "id": "pTHz6UynjGRc"
      },
      "execution_count": 21,
      "outputs": []
    },
    {
      "cell_type": "code",
      "source": [
        "dgi_es = callbacks.EarlyStopping(monitor=\"loss\", patience=100, restore_best_weights=True)\n",
        "dgi_history = dgi_model.fit(gen, epochs=epochs, verbose=2, callbacks=[dgi_es])"
      ],
      "metadata": {
        "colab": {
          "base_uri": "https://localhost:8080/"
        },
        "id": "_APJNWh1jH-Z",
        "outputId": "20ec54ea-3a5e-437f-dfc6-805e2e8a8aeb"
      },
      "execution_count": 22,
      "outputs": [
        {
          "output_type": "stream",
          "name": "stdout",
          "text": [
            "Epoch 1/100\n",
            "1/1 - 7s - loss: 1.1101 - 7s/epoch - 7s/step\n",
            "Epoch 2/100\n",
            "1/1 - 2s - loss: 1.0559 - 2s/epoch - 2s/step\n",
            "Epoch 3/100\n",
            "1/1 - 2s - loss: 1.0138 - 2s/epoch - 2s/step\n",
            "Epoch 4/100\n",
            "1/1 - 3s - loss: 0.9629 - 3s/epoch - 3s/step\n",
            "Epoch 5/100\n",
            "1/1 - 2s - loss: 0.9260 - 2s/epoch - 2s/step\n",
            "Epoch 6/100\n",
            "1/1 - 2s - loss: 0.8835 - 2s/epoch - 2s/step\n",
            "Epoch 7/100\n",
            "1/1 - 2s - loss: 0.8479 - 2s/epoch - 2s/step\n",
            "Epoch 8/100\n",
            "1/1 - 2s - loss: 0.8138 - 2s/epoch - 2s/step\n",
            "Epoch 9/100\n",
            "1/1 - 2s - loss: 0.7895 - 2s/epoch - 2s/step\n",
            "Epoch 10/100\n",
            "1/1 - 2s - loss: 0.7591 - 2s/epoch - 2s/step\n",
            "Epoch 11/100\n",
            "1/1 - 1s - loss: 0.7377 - 1s/epoch - 1s/step\n",
            "Epoch 12/100\n",
            "1/1 - 1s - loss: 0.7198 - 1s/epoch - 1s/step\n",
            "Epoch 13/100\n",
            "1/1 - 1s - loss: 0.7124 - 1s/epoch - 1s/step\n",
            "Epoch 14/100\n",
            "1/1 - 1s - loss: 0.7014 - 1s/epoch - 1s/step\n",
            "Epoch 15/100\n",
            "1/1 - 1s - loss: 0.6987 - 1s/epoch - 1s/step\n",
            "Epoch 16/100\n",
            "1/1 - 1s - loss: 0.6928 - 1s/epoch - 1s/step\n",
            "Epoch 17/100\n",
            "1/1 - 1s - loss: 0.6957 - 1s/epoch - 1s/step\n",
            "Epoch 18/100\n",
            "1/1 - 1s - loss: 0.6899 - 1s/epoch - 1s/step\n",
            "Epoch 19/100\n",
            "1/1 - 1s - loss: 0.7001 - 1s/epoch - 1s/step\n",
            "Epoch 20/100\n",
            "1/1 - 1s - loss: 0.6959 - 1s/epoch - 1s/step\n",
            "Epoch 21/100\n",
            "1/1 - 1s - loss: 0.7052 - 1s/epoch - 1s/step\n",
            "Epoch 22/100\n",
            "1/1 - 1s - loss: 0.7121 - 1s/epoch - 1s/step\n",
            "Epoch 23/100\n",
            "1/1 - 1s - loss: 0.7108 - 1s/epoch - 1s/step\n",
            "Epoch 24/100\n",
            "1/1 - 1s - loss: 0.7156 - 1s/epoch - 1s/step\n",
            "Epoch 25/100\n",
            "1/1 - 1s - loss: 0.7119 - 1s/epoch - 1s/step\n",
            "Epoch 26/100\n",
            "1/1 - 1s - loss: 0.7146 - 1s/epoch - 1s/step\n",
            "Epoch 27/100\n",
            "1/1 - 1s - loss: 0.7119 - 1s/epoch - 1s/step\n",
            "Epoch 28/100\n",
            "1/1 - 1s - loss: 0.7099 - 1s/epoch - 1s/step\n",
            "Epoch 29/100\n",
            "1/1 - 1s - loss: 0.7109 - 1s/epoch - 1s/step\n",
            "Epoch 30/100\n",
            "1/1 - 1s - loss: 0.7058 - 1s/epoch - 1s/step\n",
            "Epoch 31/100\n",
            "1/1 - 1s - loss: 0.7033 - 1s/epoch - 1s/step\n",
            "Epoch 32/100\n",
            "1/1 - 1s - loss: 0.7029 - 1s/epoch - 1s/step\n",
            "Epoch 33/100\n",
            "1/1 - 1s - loss: 0.7002 - 1s/epoch - 1s/step\n",
            "Epoch 34/100\n",
            "1/1 - 1s - loss: 0.7003 - 1s/epoch - 1s/step\n",
            "Epoch 35/100\n",
            "1/1 - 1s - loss: 0.7027 - 1s/epoch - 1s/step\n",
            "Epoch 36/100\n",
            "1/1 - 1s - loss: 0.6990 - 1s/epoch - 1s/step\n",
            "Epoch 37/100\n",
            "1/1 - 1s - loss: 0.6900 - 1s/epoch - 1s/step\n",
            "Epoch 38/100\n",
            "1/1 - 1s - loss: 0.6958 - 1s/epoch - 1s/step\n",
            "Epoch 39/100\n",
            "1/1 - 1s - loss: 0.6970 - 1s/epoch - 1s/step\n",
            "Epoch 40/100\n",
            "1/1 - 1s - loss: 0.6910 - 1s/epoch - 1s/step\n",
            "Epoch 41/100\n",
            "1/1 - 1s - loss: 0.6938 - 1s/epoch - 1s/step\n",
            "Epoch 42/100\n",
            "1/1 - 1s - loss: 0.6959 - 1s/epoch - 1s/step\n",
            "Epoch 43/100\n",
            "1/1 - 1s - loss: 0.6956 - 1s/epoch - 1s/step\n",
            "Epoch 44/100\n",
            "1/1 - 1s - loss: 0.6951 - 1s/epoch - 1s/step\n",
            "Epoch 45/100\n",
            "1/1 - 1s - loss: 0.6929 - 1s/epoch - 1s/step\n",
            "Epoch 46/100\n",
            "1/1 - 1s - loss: 0.6967 - 1s/epoch - 1s/step\n",
            "Epoch 47/100\n",
            "1/1 - 1s - loss: 0.6921 - 1s/epoch - 1s/step\n",
            "Epoch 48/100\n",
            "1/1 - 1s - loss: 0.6978 - 1s/epoch - 1s/step\n",
            "Epoch 49/100\n",
            "1/1 - 1s - loss: 0.6925 - 1s/epoch - 1s/step\n",
            "Epoch 50/100\n",
            "1/1 - 1s - loss: 0.6889 - 1s/epoch - 1s/step\n",
            "Epoch 51/100\n",
            "1/1 - 1s - loss: 0.6922 - 1s/epoch - 1s/step\n",
            "Epoch 52/100\n",
            "1/1 - 1s - loss: 0.6936 - 1s/epoch - 1s/step\n",
            "Epoch 53/100\n",
            "1/1 - 1s - loss: 0.6965 - 1s/epoch - 1s/step\n",
            "Epoch 54/100\n",
            "1/1 - 1s - loss: 0.6940 - 1s/epoch - 1s/step\n",
            "Epoch 55/100\n",
            "1/1 - 1s - loss: 0.6920 - 1s/epoch - 1s/step\n",
            "Epoch 56/100\n",
            "1/1 - 1s - loss: 0.6914 - 1s/epoch - 1s/step\n",
            "Epoch 57/100\n",
            "1/1 - 1s - loss: 0.6898 - 1s/epoch - 1s/step\n",
            "Epoch 58/100\n",
            "1/1 - 1s - loss: 0.6895 - 1s/epoch - 1s/step\n",
            "Epoch 59/100\n",
            "1/1 - 1s - loss: 0.6933 - 1s/epoch - 1s/step\n",
            "Epoch 60/100\n",
            "1/1 - 1s - loss: 0.6927 - 1s/epoch - 1s/step\n",
            "Epoch 61/100\n",
            "1/1 - 1s - loss: 0.6884 - 1s/epoch - 1s/step\n",
            "Epoch 62/100\n",
            "1/1 - 1s - loss: 0.6970 - 1s/epoch - 1s/step\n",
            "Epoch 63/100\n",
            "1/1 - 2s - loss: 0.6913 - 2s/epoch - 2s/step\n",
            "Epoch 64/100\n",
            "1/1 - 3s - loss: 0.6902 - 3s/epoch - 3s/step\n",
            "Epoch 65/100\n",
            "1/1 - 1s - loss: 0.6915 - 1s/epoch - 1s/step\n",
            "Epoch 66/100\n",
            "1/1 - 1s - loss: 0.6910 - 1s/epoch - 1s/step\n",
            "Epoch 67/100\n",
            "1/1 - 1s - loss: 0.6982 - 1s/epoch - 1s/step\n",
            "Epoch 68/100\n",
            "1/1 - 1s - loss: 0.6869 - 1s/epoch - 1s/step\n",
            "Epoch 69/100\n",
            "1/1 - 1s - loss: 0.6966 - 1s/epoch - 1s/step\n",
            "Epoch 70/100\n",
            "1/1 - 1s - loss: 0.6953 - 1s/epoch - 1s/step\n",
            "Epoch 71/100\n",
            "1/1 - 1s - loss: 0.6891 - 1s/epoch - 1s/step\n",
            "Epoch 72/100\n",
            "1/1 - 1s - loss: 0.6911 - 1s/epoch - 1s/step\n",
            "Epoch 73/100\n",
            "1/1 - 1s - loss: 0.6945 - 1s/epoch - 1s/step\n",
            "Epoch 74/100\n",
            "1/1 - 1s - loss: 0.6934 - 1s/epoch - 1s/step\n",
            "Epoch 75/100\n",
            "1/1 - 1s - loss: 0.6925 - 1s/epoch - 1s/step\n",
            "Epoch 76/100\n",
            "1/1 - 1s - loss: 0.6944 - 1s/epoch - 1s/step\n",
            "Epoch 77/100\n",
            "1/1 - 1s - loss: 0.6932 - 1s/epoch - 1s/step\n",
            "Epoch 78/100\n",
            "1/1 - 1s - loss: 0.6941 - 1s/epoch - 1s/step\n",
            "Epoch 79/100\n",
            "1/1 - 1s - loss: 0.6896 - 1s/epoch - 1s/step\n",
            "Epoch 80/100\n",
            "1/1 - 1s - loss: 0.6917 - 1s/epoch - 1s/step\n",
            "Epoch 81/100\n",
            "1/1 - 1s - loss: 0.6927 - 1s/epoch - 1s/step\n",
            "Epoch 82/100\n",
            "1/1 - 1s - loss: 0.6867 - 1s/epoch - 1s/step\n",
            "Epoch 83/100\n",
            "1/1 - 1s - loss: 0.6931 - 1s/epoch - 1s/step\n",
            "Epoch 84/100\n",
            "1/1 - 1s - loss: 0.6961 - 1s/epoch - 1s/step\n",
            "Epoch 85/100\n",
            "1/1 - 1s - loss: 0.6930 - 1s/epoch - 1s/step\n",
            "Epoch 86/100\n",
            "1/1 - 1s - loss: 0.6915 - 1s/epoch - 1s/step\n",
            "Epoch 87/100\n",
            "1/1 - 1s - loss: 0.6890 - 1s/epoch - 1s/step\n",
            "Epoch 88/100\n",
            "1/1 - 1s - loss: 0.6942 - 1s/epoch - 1s/step\n",
            "Epoch 89/100\n",
            "1/1 - 1s - loss: 0.6963 - 1s/epoch - 1s/step\n",
            "Epoch 90/100\n",
            "1/1 - 1s - loss: 0.6904 - 1s/epoch - 1s/step\n",
            "Epoch 91/100\n",
            "1/1 - 1s - loss: 0.6903 - 1s/epoch - 1s/step\n",
            "Epoch 92/100\n",
            "1/1 - 1s - loss: 0.6943 - 1s/epoch - 1s/step\n",
            "Epoch 93/100\n",
            "1/1 - 1s - loss: 0.6918 - 1s/epoch - 1s/step\n",
            "Epoch 94/100\n",
            "1/1 - 1s - loss: 0.6975 - 1s/epoch - 1s/step\n",
            "Epoch 95/100\n",
            "1/1 - 1s - loss: 0.6934 - 1s/epoch - 1s/step\n",
            "Epoch 96/100\n",
            "1/1 - 1s - loss: 0.6938 - 1s/epoch - 1s/step\n",
            "Epoch 97/100\n",
            "1/1 - 1s - loss: 0.6964 - 1s/epoch - 1s/step\n",
            "Epoch 98/100\n",
            "1/1 - 1s - loss: 0.6934 - 1s/epoch - 1s/step\n",
            "Epoch 99/100\n",
            "1/1 - 1s - loss: 0.6941 - 1s/epoch - 1s/step\n",
            "Epoch 100/100\n",
            "1/1 - 1s - loss: 0.6971 - 1s/epoch - 1s/step\n"
          ]
        }
      ]
    },
    {
      "cell_type": "code",
      "source": [
        "sg.utils.plot_history(dgi_history)  "
      ],
      "metadata": {
        "colab": {
          "base_uri": "https://localhost:8080/",
          "height": 297
        },
        "id": "c1GK-EFmjiAC",
        "outputId": "ed8bd5df-2233-4e48-cc3a-1550f55d5ef9"
      },
      "execution_count": 23,
      "outputs": [
        {
          "output_type": "display_data",
          "data": {
            "text/plain": [
              "<Figure size 504x288 with 1 Axes>"
            ],
            "image/png": "[encoded data removed]"
          },
          "metadata": {
            "needs_background": "light"
          }
        }
      ]
    },
    {
      "cell_type": "code",
      "source": [
        "node_classes=df1['is_sarcastic']"
      ],
      "metadata": {
        "id": "VBwDZLrAj3gS"
      },
      "execution_count": 24,
      "outputs": []
    },
    {
      "cell_type": "code",
      "source": [
        "node_classes.value_counts().to_frame()"
      ],
      "metadata": {
        "colab": {
          "base_uri": "https://localhost:8080/",
          "height": 112
        },
        "id": "sizBL6s8lxQ1",
        "outputId": "ff8f1a8d-f993-4093-81c8-e9aa924d793d"
      },
      "execution_count": 25,
      "outputs": [
        {
          "output_type": "execute_result",
          "data": {
            "text/plain": [
              "   is_sarcastic\n",
              "0           843\n",
              "1           657"
            ],
            "text/html": [
              "\n",
              "  <div id=\"df-b392dabe-07ed-49c0-ad3e-dfe3e428b7f2\">\n",
              "    <div class=\"colab-df-container\">\n",
              "      <div>\n",
              "<style scoped>\n",
              "    .dataframe tbody tr th:only-of-type {\n",
              "        vertical-align: middle;\n",
              "    }\n",
              "\n",
              "    .dataframe tbody tr th {\n",
              "        vertical-align: top;\n",
              "    }\n",
              "\n",
              "    .dataframe thead th {\n",
              "        text-align: right;\n",
              "    }\n",
              "</style>\n",
              "<table border=\"1\" class=\"dataframe\">\n",
              "  <thead>\n",
              "    <tr style=\"text-align: right;\">\n",
              "      <th></th>\n",
              "      <th>is_sarcastic</th>\n",
              "    </tr>\n",
              "  </thead>\n",
              "  <tbody>\n",
              "    <tr>\n",
              "      <th>0</th>\n",
              "      <td>843</td>\n",
              "    </tr>\n",
              "    <tr>\n",
              "      <th>1</th>\n",
              "      <td>657</td>\n",
              "    </tr>\n",
              "  </tbody>\n",
              "</table>\n",
              "</div>\n",
              "      <button class=\"colab-df-convert\" onclick=\"convertToInteractive('df-b392dabe-07ed-49c0-ad3e-dfe3e428b7f2')\"\n",
              "              title=\"Convert this dataframe to an interactive table.\"\n",
              "              style=\"display:none;\">\n",
              "        \n",
              "  <svg xmlns=\"http://www.w3.org/2000/svg\" height=\"24px\"viewBox=\"0 0 24 24\"\n",
              "       width=\"24px\">\n",
              "    <path d=\"M0 0h24v24H0V0z\" fill=\"none\"/>\n",
              "    <path d=\"M18.56 5.44l.94 2.06.94-2.06 2.06-.94-2.06-.94-.94-2.06-.94 2.06-2.06.94zm-11 1L8.5 8.5l.94-2.06 2.06-.94-2.06-.94L8.5 2.5l-.94 2.06-2.06.94zm10 10l.94 2.06.94-2.06 2.06-.94-2.06-.94-.94-2.06-.94 2.06-2.06.94z\"/><path d=\"M17.41 7.96l-1.37-1.37c-.4-.4-.92-.59-1.43-.59-.52 0-1.04.2-1.43.59L10.3 9.45l-7.72 7.72c-.78.78-.78 2.05 0 2.83L4 21.41c.39.39.9.59 1.41.59.51 0 1.02-.2 1.41-.59l7.78-7.78 2.81-2.81c.8-.78.8-2.07 0-2.86zM5.41 20L4 18.59l7.72-7.72 1.47 1.35L5.41 20z\"/>\n",
              "  </svg>\n",
              "      </button>\n",
              "      \n",
              "  <style>\n",
              "    .colab-df-container {\n",
              "      display:flex;\n",
              "      flex-wrap:wrap;\n",
              "      gap: 12px;\n",
              "    }\n",
              "\n",
              "    .colab-df-convert {\n",
              "      background-color: #E8F0FE;\n",
              "      border: none;\n",
              "      border-radius: 50%;\n",
              "      cursor: pointer;\n",
              "      display: none;\n",
              "      fill: #1967D2;\n",
              "      height: 32px;\n",
              "      padding: 0 0 0 0;\n",
              "      width: 32px;\n",
              "    }\n",
              "\n",
              "    .colab-df-convert:hover {\n",
              "      background-color: #E2EBFA;\n",
              "      box-shadow: 0px 1px 2px rgba(60, 64, 67, 0.3), 0px 1px 3px 1px rgba(60, 64, 67, 0.15);\n",
              "      fill: #174EA6;\n",
              "    }\n",
              "\n",
              "    [theme=dark] .colab-df-convert {\n",
              "      background-color: #3B4455;\n",
              "      fill: #D2E3FC;\n",
              "    }\n",
              "\n",
              "    [theme=dark] .colab-df-convert:hover {\n",
              "      background-color: #434B5C;\n",
              "      box-shadow: 0px 1px 3px 1px rgba(0, 0, 0, 0.15);\n",
              "      filter: drop-shadow(0px 1px 2px rgba(0, 0, 0, 0.3));\n",
              "      fill: #FFFFFF;\n",
              "    }\n",
              "  </style>\n",
              "\n",
              "      <script>\n",
              "        const buttonEl =\n",
              "          document.querySelector('#df-b392dabe-07ed-49c0-ad3e-dfe3e428b7f2 button.colab-df-convert');\n",
              "        buttonEl.style.display =\n",
              "          google.colab.kernel.accessAllowed ? 'block' : 'none';\n",
              "\n",
              "        async function convertToInteractive(key) {\n",
              "          const element = document.querySelector('#df-b392dabe-07ed-49c0-ad3e-dfe3e428b7f2');\n",
              "          const dataTable =\n",
              "            await google.colab.kernel.invokeFunction('convertToInteractive',\n",
              "                                                     [key], {});\n",
              "          if (!dataTable) return;\n",
              "\n",
              "          const docLinkHtml = 'Like what you see? Visit the ' +\n",
              "            '<a target=\"_blank\" href=https://colab.research.google.com/notebooks/data_table.ipynb>data table notebook</a>'\n",
              "            + ' to learn more about interactive tables.';\n",
              "          element.innerHTML = '';\n",
              "          dataTable['output_type'] = 'display_data';\n",
              "          await google.colab.output.renderOutput(dataTable, element);\n",
              "          const docLink = document.createElement('div');\n",
              "          docLink.innerHTML = docLinkHtml;\n",
              "          element.appendChild(docLink);\n",
              "        }\n",
              "      </script>\n",
              "    </div>\n",
              "  </div>\n",
              "  "
            ]
          },
          "metadata": {},
          "execution_count": 25
        }
      ]
    },
    {
      "cell_type": "markdown",
      "source": [
        "Model Without Pretraining"
      ],
      "metadata": {
        "id": "zjhweQZdtki8"
      }
    },
    {
      "cell_type": "code",
      "source": [
        "train_classes, test_classes = model_selection.train_test_split(\n",
        "    node_classes, train_size=50, stratify=node_classes\n",
        ")\n",
        "val_classes, test_classes = model_selection.train_test_split(\n",
        "    test_classes, train_size=750, stratify=test_classes\n",
        ")"
      ],
      "metadata": {
        "id": "LJdumEWRlzI0"
      },
      "execution_count": 26,
      "outputs": []
    },
    {
      "cell_type": "code",
      "source": [
        "target_encoding = preprocessing.LabelBinarizer()\n",
        "\n",
        "train_targets = target_encoding.fit_transform(train_classes)\n",
        "val_targets = target_encoding.transform(val_classes)\n",
        "test_targets = target_encoding.transform(test_classes)"
      ],
      "metadata": {
        "id": "C8s9pVKpl0gE"
      },
      "execution_count": 27,
      "outputs": []
    },
    {
      "cell_type": "code",
      "source": [
        "test_gen = fullbatch_generator.flow(test_classes.index, test_targets)\n",
        "train_gen = fullbatch_generator.flow(train_classes.index, train_targets)\n",
        "val_gen = fullbatch_generator.flow(val_classes.index, val_targets)"
      ],
      "metadata": {
        "id": "Jjl4ZaaXmUk1"
      },
      "execution_count": 28,
      "outputs": []
    },
    {
      "cell_type": "code",
      "source": [
        "pretrained_x_in, pretrained_x_out = pretrained_gcn_model.in_out_tensors()\n",
        "\n",
        "pretrained_predictions = tf.keras.layers.Dense(\n",
        "    units=train_targets.shape[1], activation=\"sigmoid\"\n",
        ")(pretrained_x_out)"
      ],
      "metadata": {
        "id": "lG4jw5gKl_-E"
      },
      "execution_count": 29,
      "outputs": []
    },
    {
      "cell_type": "code",
      "source": [
        "pretrained_model = Model(inputs=pretrained_x_in, outputs=pretrained_predictions)\n",
        "pretrained_model.compile(\n",
        "    optimizer=optimizers.Adam(learning_rate=0.01), loss=\"binary_crossentropy\", metrics=[\"acc\"],\n",
        ")"
      ],
      "metadata": {
        "id": "rxsAeaQ0mHmX"
      },
      "execution_count": 30,
      "outputs": []
    },
    {
      "cell_type": "code",
      "source": [
        "prediction_es = callbacks.EarlyStopping(\n",
        "    monitor=\"val_acc\", patience=100, restore_best_weights=True\n",
        ")"
      ],
      "metadata": {
        "id": "RZRDlXcEmKM1"
      },
      "execution_count": 31,
      "outputs": []
    },
    {
      "cell_type": "code",
      "source": [
        "pretrained_history = pretrained_model.fit(\n",
        "    train_gen,\n",
        "    epochs=epochs,\n",
        "    verbose=2,\n",
        "    validation_data=val_gen,\n",
        "    callbacks=[prediction_es],\n",
        ")"
      ],
      "metadata": {
        "colab": {
          "base_uri": "https://localhost:8080/"
        },
        "id": "_8lY5s_FmLv3",
        "outputId": "65163d47-827b-4b9c-d600-8b90ccc021e7"
      },
      "execution_count": 32,
      "outputs": [
        {
          "output_type": "stream",
          "name": "stdout",
          "text": [
            "Epoch 1/100\n",
            "1/1 - 3s - loss: 0.7671 - acc: 0.4400 - val_loss: 0.7312 - val_acc: 0.4373 - 3s/epoch - 3s/step\n",
            "Epoch 2/100\n",
            "1/1 - 1s - loss: 0.7290 - acc: 0.4400 - val_loss: 0.7055 - val_acc: 0.4587 - 1s/epoch - 1s/step\n",
            "Epoch 3/100\n",
            "1/1 - 1s - loss: 0.7033 - acc: 0.4400 - val_loss: 0.6909 - val_acc: 0.5013 - 1s/epoch - 1s/step\n",
            "Epoch 4/100\n",
            "1/1 - 1s - loss: 0.6892 - acc: 0.5600 - val_loss: 0.6858 - val_acc: 0.5627 - 1s/epoch - 1s/step\n",
            "Epoch 5/100\n",
            "1/1 - 1s - loss: 0.6814 - acc: 0.5600 - val_loss: 0.6876 - val_acc: 0.5627 - 1s/epoch - 1s/step\n",
            "Epoch 6/100\n",
            "1/1 - 1s - loss: 0.6823 - acc: 0.5600 - val_loss: 0.6928 - val_acc: 0.5627 - 1s/epoch - 1s/step\n",
            "Epoch 7/100\n",
            "1/1 - 1s - loss: 0.6902 - acc: 0.5600 - val_loss: 0.6981 - val_acc: 0.5627 - 1s/epoch - 1s/step\n",
            "Epoch 8/100\n",
            "1/1 - 1s - loss: 0.6950 - acc: 0.5600 - val_loss: 0.7014 - val_acc: 0.5627 - 1s/epoch - 1s/step\n",
            "Epoch 9/100\n",
            "1/1 - 1s - loss: 0.6977 - acc: 0.5600 - val_loss: 0.7021 - val_acc: 0.5627 - 1s/epoch - 1s/step\n",
            "Epoch 10/100\n",
            "1/1 - 1s - loss: 0.6981 - acc: 0.5600 - val_loss: 0.7005 - val_acc: 0.5627 - 1s/epoch - 1s/step\n",
            "Epoch 11/100\n",
            "1/1 - 1s - loss: 0.6947 - acc: 0.5600 - val_loss: 0.6975 - val_acc: 0.5627 - 1s/epoch - 1s/step\n",
            "Epoch 12/100\n",
            "1/1 - 1s - loss: 0.6946 - acc: 0.5600 - val_loss: 0.6938 - val_acc: 0.5627 - 1s/epoch - 1s/step\n",
            "Epoch 13/100\n",
            "1/1 - 2s - loss: 0.6883 - acc: 0.5600 - val_loss: 0.6904 - val_acc: 0.5627 - 2s/epoch - 2s/step\n",
            "Epoch 14/100\n",
            "1/1 - 2s - loss: 0.6849 - acc: 0.5600 - val_loss: 0.6877 - val_acc: 0.5627 - 2s/epoch - 2s/step\n",
            "Epoch 15/100\n",
            "1/1 - 2s - loss: 0.6831 - acc: 0.5600 - val_loss: 0.6862 - val_acc: 0.5627 - 2s/epoch - 2s/step\n",
            "Epoch 16/100\n",
            "1/1 - 1s - loss: 0.6801 - acc: 0.5600 - val_loss: 0.6857 - val_acc: 0.5627 - 1s/epoch - 1s/step\n",
            "Epoch 17/100\n",
            "1/1 - 1s - loss: 0.6807 - acc: 0.5600 - val_loss: 0.6862 - val_acc: 0.5627 - 1s/epoch - 1s/step\n",
            "Epoch 18/100\n",
            "1/1 - 1s - loss: 0.6813 - acc: 0.5600 - val_loss: 0.6872 - val_acc: 0.5573 - 1s/epoch - 1s/step\n",
            "Epoch 19/100\n",
            "1/1 - 1s - loss: 0.6809 - acc: 0.5600 - val_loss: 0.6883 - val_acc: 0.5427 - 1s/epoch - 1s/step\n",
            "Epoch 20/100\n",
            "1/1 - 1s - loss: 0.6844 - acc: 0.6000 - val_loss: 0.6892 - val_acc: 0.5093 - 1s/epoch - 1s/step\n",
            "Epoch 21/100\n",
            "1/1 - 1s - loss: 0.6826 - acc: 0.5400 - val_loss: 0.6897 - val_acc: 0.5013 - 1s/epoch - 1s/step\n",
            "Epoch 22/100\n",
            "1/1 - 1s - loss: 0.6838 - acc: 0.5600 - val_loss: 0.6896 - val_acc: 0.5013 - 1s/epoch - 1s/step\n",
            "Epoch 23/100\n",
            "1/1 - 1s - loss: 0.6832 - acc: 0.5600 - val_loss: 0.6891 - val_acc: 0.5107 - 1s/epoch - 1s/step\n",
            "Epoch 24/100\n",
            "1/1 - 1s - loss: 0.6843 - acc: 0.5400 - val_loss: 0.6883 - val_acc: 0.5413 - 1s/epoch - 1s/step\n",
            "Epoch 25/100\n",
            "1/1 - 1s - loss: 0.6820 - acc: 0.5600 - val_loss: 0.6873 - val_acc: 0.5520 - 1s/epoch - 1s/step\n",
            "Epoch 26/100\n",
            "1/1 - 1s - loss: 0.6818 - acc: 0.5400 - val_loss: 0.6865 - val_acc: 0.5707 - 1s/epoch - 1s/step\n",
            "Epoch 27/100\n",
            "1/1 - 1s - loss: 0.6812 - acc: 0.5600 - val_loss: 0.6860 - val_acc: 0.5627 - 1s/epoch - 1s/step\n",
            "Epoch 28/100\n",
            "1/1 - 1s - loss: 0.6806 - acc: 0.5600 - val_loss: 0.6857 - val_acc: 0.5627 - 1s/epoch - 1s/step\n",
            "Epoch 29/100\n",
            "1/1 - 1s - loss: 0.6791 - acc: 0.5600 - val_loss: 0.6857 - val_acc: 0.5627 - 1s/epoch - 1s/step\n",
            "Epoch 30/100\n",
            "1/1 - 1s - loss: 0.6789 - acc: 0.5600 - val_loss: 0.6859 - val_acc: 0.5627 - 1s/epoch - 1s/step\n",
            "Epoch 31/100\n",
            "1/1 - 1s - loss: 0.6781 - acc: 0.5600 - val_loss: 0.6862 - val_acc: 0.5627 - 1s/epoch - 1s/step\n",
            "Epoch 32/100\n",
            "1/1 - 1s - loss: 0.6797 - acc: 0.5600 - val_loss: 0.6864 - val_acc: 0.5627 - 1s/epoch - 1s/step\n",
            "Epoch 33/100\n",
            "1/1 - 1s - loss: 0.6791 - acc: 0.5600 - val_loss: 0.6866 - val_acc: 0.5627 - 1s/epoch - 1s/step\n",
            "Epoch 34/100\n",
            "1/1 - 1s - loss: 0.6775 - acc: 0.5600 - val_loss: 0.6866 - val_acc: 0.5627 - 1s/epoch - 1s/step\n",
            "Epoch 35/100\n",
            "1/1 - 1s - loss: 0.6792 - acc: 0.5600 - val_loss: 0.6865 - val_acc: 0.5627 - 1s/epoch - 1s/step\n",
            "Epoch 36/100\n",
            "1/1 - 1s - loss: 0.6786 - acc: 0.5600 - val_loss: 0.6862 - val_acc: 0.5627 - 1s/epoch - 1s/step\n",
            "Epoch 37/100\n",
            "1/1 - 1s - loss: 0.6775 - acc: 0.5600 - val_loss: 0.6860 - val_acc: 0.5627 - 1s/epoch - 1s/step\n",
            "Epoch 38/100\n",
            "1/1 - 1s - loss: 0.6763 - acc: 0.5600 - val_loss: 0.6857 - val_acc: 0.5627 - 1s/epoch - 1s/step\n",
            "Epoch 39/100\n",
            "1/1 - 1s - loss: 0.6750 - acc: 0.5600 - val_loss: 0.6855 - val_acc: 0.5627 - 1s/epoch - 1s/step\n",
            "Epoch 40/100\n",
            "1/1 - 1s - loss: 0.6756 - acc: 0.5600 - val_loss: 0.6854 - val_acc: 0.5627 - 1s/epoch - 1s/step\n",
            "Epoch 41/100\n",
            "1/1 - 1s - loss: 0.6753 - acc: 0.5600 - val_loss: 0.6854 - val_acc: 0.5627 - 1s/epoch - 1s/step\n",
            "Epoch 42/100\n",
            "1/1 - 1s - loss: 0.6758 - acc: 0.5600 - val_loss: 0.6854 - val_acc: 0.5627 - 1s/epoch - 1s/step\n",
            "Epoch 43/100\n",
            "1/1 - 1s - loss: 0.6737 - acc: 0.5600 - val_loss: 0.6855 - val_acc: 0.5573 - 1s/epoch - 1s/step\n",
            "Epoch 44/100\n",
            "1/1 - 1s - loss: 0.6749 - acc: 0.5600 - val_loss: 0.6856 - val_acc: 0.5533 - 1s/epoch - 1s/step\n",
            "Epoch 45/100\n",
            "1/1 - 1s - loss: 0.6723 - acc: 0.5800 - val_loss: 0.6856 - val_acc: 0.5507 - 1s/epoch - 1s/step\n",
            "Epoch 46/100\n",
            "1/1 - 1s - loss: 0.6744 - acc: 0.5800 - val_loss: 0.6856 - val_acc: 0.5533 - 1s/epoch - 1s/step\n",
            "Epoch 47/100\n",
            "1/1 - 1s - loss: 0.6736 - acc: 0.6000 - val_loss: 0.6855 - val_acc: 0.5533 - 1s/epoch - 1s/step\n",
            "Epoch 48/100\n",
            "1/1 - 1s - loss: 0.6710 - acc: 0.5600 - val_loss: 0.6853 - val_acc: 0.5493 - 1s/epoch - 1s/step\n",
            "Epoch 49/100\n",
            "1/1 - 1s - loss: 0.6733 - acc: 0.6000 - val_loss: 0.6852 - val_acc: 0.5520 - 1s/epoch - 1s/step\n",
            "Epoch 50/100\n",
            "1/1 - 1s - loss: 0.6741 - acc: 0.6000 - val_loss: 0.6850 - val_acc: 0.5533 - 1s/epoch - 1s/step\n",
            "Epoch 51/100\n",
            "1/1 - 1s - loss: 0.6722 - acc: 0.5600 - val_loss: 0.6849 - val_acc: 0.5573 - 1s/epoch - 1s/step\n",
            "Epoch 52/100\n",
            "1/1 - 1s - loss: 0.6715 - acc: 0.5600 - val_loss: 0.6848 - val_acc: 0.5693 - 1s/epoch - 1s/step\n",
            "Epoch 53/100\n",
            "1/1 - 1s - loss: 0.6694 - acc: 0.5600 - val_loss: 0.6847 - val_acc: 0.5627 - 1s/epoch - 1s/step\n",
            "Epoch 54/100\n",
            "1/1 - 1s - loss: 0.6719 - acc: 0.5600 - val_loss: 0.6846 - val_acc: 0.5627 - 1s/epoch - 1s/step\n",
            "Epoch 55/100\n",
            "1/1 - 1s - loss: 0.6702 - acc: 0.5600 - val_loss: 0.6845 - val_acc: 0.5627 - 1s/epoch - 1s/step\n",
            "Epoch 56/100\n",
            "1/1 - 1s - loss: 0.6665 - acc: 0.5600 - val_loss: 0.6844 - val_acc: 0.5627 - 1s/epoch - 1s/step\n",
            "Epoch 57/100\n",
            "1/1 - 1s - loss: 0.6681 - acc: 0.5600 - val_loss: 0.6843 - val_acc: 0.5693 - 1s/epoch - 1s/step\n",
            "Epoch 58/100\n",
            "1/1 - 1s - loss: 0.6669 - acc: 0.5600 - val_loss: 0.6841 - val_acc: 0.5573 - 1s/epoch - 1s/step\n",
            "Epoch 59/100\n",
            "1/1 - 1s - loss: 0.6662 - acc: 0.5600 - val_loss: 0.6840 - val_acc: 0.5520 - 1s/epoch - 1s/step\n",
            "Epoch 60/100\n",
            "1/1 - 1s - loss: 0.6674 - acc: 0.5600 - val_loss: 0.6838 - val_acc: 0.5520 - 1s/epoch - 1s/step\n",
            "Epoch 61/100\n",
            "1/1 - 1s - loss: 0.6643 - acc: 0.5400 - val_loss: 0.6837 - val_acc: 0.5600 - 1s/epoch - 1s/step\n",
            "Epoch 62/100\n",
            "1/1 - 1s - loss: 0.6650 - acc: 0.5800 - val_loss: 0.6835 - val_acc: 0.5480 - 1s/epoch - 1s/step\n",
            "Epoch 63/100\n",
            "1/1 - 1s - loss: 0.6614 - acc: 0.5800 - val_loss: 0.6834 - val_acc: 0.5533 - 1s/epoch - 1s/step\n",
            "Epoch 64/100\n",
            "1/1 - 1s - loss: 0.6642 - acc: 0.5800 - val_loss: 0.6832 - val_acc: 0.5507 - 1s/epoch - 1s/step\n",
            "Epoch 65/100\n",
            "1/1 - 1s - loss: 0.6616 - acc: 0.5600 - val_loss: 0.6831 - val_acc: 0.5520 - 1s/epoch - 1s/step\n",
            "Epoch 66/100\n",
            "1/1 - 1s - loss: 0.6616 - acc: 0.6000 - val_loss: 0.6829 - val_acc: 0.5507 - 1s/epoch - 1s/step\n",
            "Epoch 67/100\n",
            "1/1 - 1s - loss: 0.6575 - acc: 0.5800 - val_loss: 0.6826 - val_acc: 0.5520 - 1s/epoch - 1s/step\n",
            "Epoch 68/100\n",
            "1/1 - 1s - loss: 0.6638 - acc: 0.5800 - val_loss: 0.6823 - val_acc: 0.5520 - 1s/epoch - 1s/step\n",
            "Epoch 69/100\n",
            "1/1 - 1s - loss: 0.6596 - acc: 0.5800 - val_loss: 0.6820 - val_acc: 0.5493 - 1s/epoch - 1s/step\n",
            "Epoch 70/100\n",
            "1/1 - 1s - loss: 0.6553 - acc: 0.5600 - val_loss: 0.6817 - val_acc: 0.5547 - 1s/epoch - 1s/step\n",
            "Epoch 71/100\n",
            "1/1 - 1s - loss: 0.6525 - acc: 0.5800 - val_loss: 0.6814 - val_acc: 0.5560 - 1s/epoch - 1s/step\n",
            "Epoch 72/100\n",
            "1/1 - 1s - loss: 0.6523 - acc: 0.6000 - val_loss: 0.6811 - val_acc: 0.5560 - 1s/epoch - 1s/step\n",
            "Epoch 73/100\n",
            "1/1 - 1s - loss: 0.6509 - acc: 0.5600 - val_loss: 0.6807 - val_acc: 0.5560 - 1s/epoch - 1s/step\n",
            "Epoch 74/100\n",
            "1/1 - 1s - loss: 0.6492 - acc: 0.6000 - val_loss: 0.6804 - val_acc: 0.5533 - 1s/epoch - 1s/step\n",
            "Epoch 75/100\n",
            "1/1 - 1s - loss: 0.6551 - acc: 0.5600 - val_loss: 0.6800 - val_acc: 0.5573 - 1s/epoch - 1s/step\n",
            "Epoch 76/100\n",
            "1/1 - 1s - loss: 0.6507 - acc: 0.5800 - val_loss: 0.6797 - val_acc: 0.5533 - 1s/epoch - 1s/step\n",
            "Epoch 77/100\n",
            "1/1 - 1s - loss: 0.6461 - acc: 0.5800 - val_loss: 0.6793 - val_acc: 0.5533 - 1s/epoch - 1s/step\n",
            "Epoch 78/100\n",
            "1/1 - 1s - loss: 0.6472 - acc: 0.6000 - val_loss: 0.6789 - val_acc: 0.5507 - 1s/epoch - 1s/step\n",
            "Epoch 79/100\n",
            "1/1 - 1s - loss: 0.6488 - acc: 0.5400 - val_loss: 0.6785 - val_acc: 0.5600 - 1s/epoch - 1s/step\n",
            "Epoch 80/100\n",
            "1/1 - 1s - loss: 0.6431 - acc: 0.5400 - val_loss: 0.6781 - val_acc: 0.5707 - 1s/epoch - 1s/step\n",
            "Epoch 81/100\n",
            "1/1 - 1s - loss: 0.6423 - acc: 0.5400 - val_loss: 0.6777 - val_acc: 0.5707 - 1s/epoch - 1s/step\n",
            "Epoch 82/100\n",
            "1/1 - 1s - loss: 0.6423 - acc: 0.5400 - val_loss: 0.6773 - val_acc: 0.5787 - 1s/epoch - 1s/step\n",
            "Epoch 83/100\n",
            "1/1 - 1s - loss: 0.6440 - acc: 0.5000 - val_loss: 0.6769 - val_acc: 0.5773 - 1s/epoch - 1s/step\n",
            "Epoch 84/100\n",
            "1/1 - 2s - loss: 0.6373 - acc: 0.5400 - val_loss: 0.6764 - val_acc: 0.5747 - 2s/epoch - 2s/step\n",
            "Epoch 85/100\n",
            "1/1 - 2s - loss: 0.6380 - acc: 0.5800 - val_loss: 0.6759 - val_acc: 0.5733 - 2s/epoch - 2s/step\n",
            "Epoch 86/100\n",
            "1/1 - 2s - loss: 0.6347 - acc: 0.6000 - val_loss: 0.6753 - val_acc: 0.5733 - 2s/epoch - 2s/step\n",
            "Epoch 87/100\n",
            "1/1 - 1s - loss: 0.6348 - acc: 0.5600 - val_loss: 0.6748 - val_acc: 0.5733 - 1s/epoch - 1s/step\n",
            "Epoch 88/100\n",
            "1/1 - 2s - loss: 0.6411 - acc: 0.5600 - val_loss: 0.6743 - val_acc: 0.5760 - 2s/epoch - 2s/step\n",
            "Epoch 89/100\n",
            "1/1 - 2s - loss: 0.6287 - acc: 0.5600 - val_loss: 0.6737 - val_acc: 0.5773 - 2s/epoch - 2s/step\n",
            "Epoch 90/100\n",
            "1/1 - 2s - loss: 0.6307 - acc: 0.6000 - val_loss: 0.6732 - val_acc: 0.5773 - 2s/epoch - 2s/step\n",
            "Epoch 91/100\n",
            "1/1 - 1s - loss: 0.6314 - acc: 0.6000 - val_loss: 0.6728 - val_acc: 0.5773 - 1s/epoch - 1s/step\n",
            "Epoch 92/100\n",
            "1/1 - 2s - loss: 0.6228 - acc: 0.6200 - val_loss: 0.6723 - val_acc: 0.5800 - 2s/epoch - 2s/step\n",
            "Epoch 93/100\n",
            "1/1 - 2s - loss: 0.6206 - acc: 0.6800 - val_loss: 0.6718 - val_acc: 0.5800 - 2s/epoch - 2s/step\n",
            "Epoch 94/100\n",
            "1/1 - 1s - loss: 0.6165 - acc: 0.6200 - val_loss: 0.6713 - val_acc: 0.5773 - 1s/epoch - 1s/step\n",
            "Epoch 95/100\n",
            "1/1 - 1s - loss: 0.6167 - acc: 0.6000 - val_loss: 0.6709 - val_acc: 0.5813 - 1s/epoch - 1s/step\n",
            "Epoch 96/100\n",
            "1/1 - 1s - loss: 0.6201 - acc: 0.5600 - val_loss: 0.6705 - val_acc: 0.5813 - 1s/epoch - 1s/step\n",
            "Epoch 97/100\n",
            "1/1 - 2s - loss: 0.6091 - acc: 0.6800 - val_loss: 0.6702 - val_acc: 0.5787 - 2s/epoch - 2s/step\n",
            "Epoch 98/100\n",
            "1/1 - 1s - loss: 0.6160 - acc: 0.6000 - val_loss: 0.6699 - val_acc: 0.5813 - 1s/epoch - 1s/step\n",
            "Epoch 99/100\n",
            "1/1 - 2s - loss: 0.6080 - acc: 0.6400 - val_loss: 0.6697 - val_acc: 0.5787 - 2s/epoch - 2s/step\n",
            "Epoch 100/100\n",
            "1/1 - 2s - loss: 0.6130 - acc: 0.6400 - val_loss: 0.6697 - val_acc: 0.5747 - 2s/epoch - 2s/step\n"
          ]
        }
      ]
    },
    {
      "cell_type": "code",
      "source": [
        "sg.utils.plot_history(pretrained_history)"
      ],
      "metadata": {
        "colab": {
          "base_uri": "https://localhost:8080/",
          "height": 585
        },
        "id": "3S51PKRkmMtX",
        "outputId": "05e26a56-c03f-433d-b996-a14a9beb32c5"
      },
      "execution_count": 33,
      "outputs": [
        {
          "output_type": "display_data",
          "data": {
            "text/plain": [
              "<Figure size 504x576 with 2 Axes>"
            ],
            "image/png": "[encoded data removed]"
          },
          "metadata": {
            "needs_background": "light"
          }
        }
      ]
    },
    {
      "cell_type": "code",
      "source": [
        "pretrained_test_metrics = dict(\n",
        "    zip(pretrained_model.metrics_names, pretrained_model.evaluate(test_gen))\n",
        ")\n",
        "print(pretrained_test_metrics)"
      ],
      "metadata": {
        "colab": {
          "base_uri": "https://localhost:8080/"
        },
        "id": "RHG3rSylGOF7",
        "outputId": "926d0a52-2b60-44c3-cce4-bad416041a54"
      },
      "execution_count": 34,
      "outputs": [
        {
          "output_type": "stream",
          "name": "stdout",
          "text": [
            "1/1 [==============================] - 1s 702ms/step - loss: 0.6707 - acc: 0.5729\n",
            "{'loss': 0.6706563830375671, 'acc': 0.572857141494751}\n"
          ]
        }
      ]
    },
    {
      "cell_type": "code",
      "source": [
        "direct_gcn_model = make_gcn_model()\n",
        "direct_x_in, direct_x_out = direct_gcn_model.in_out_tensors()\n",
        "direct_predictions = tf.keras.layers.Dense(\n",
        "    units=train_targets.shape[1], activation=\"sigmoid\"\n",
        ")(direct_x_out)"
      ],
      "metadata": {
        "id": "r16ZdL10mcFA"
      },
      "execution_count": 35,
      "outputs": []
    },
    {
      "cell_type": "code",
      "source": [
        "direct_model = Model(inputs=direct_x_in, outputs=direct_predictions)\n",
        "direct_model.compile(\n",
        "    optimizer=optimizers.Adam(lr=0.01), loss=losses.BinaryCrossentropy(), metrics=[\"acc\"],\n",
        ")"
      ],
      "metadata": {
        "colab": {
          "base_uri": "https://localhost:8080/"
        },
        "id": "XAqOS-nimhUg",
        "outputId": "76e0ca5e-173e-477a-dae1-0b299624aab2"
      },
      "execution_count": 36,
      "outputs": [
        {
          "output_type": "stream",
          "name": "stderr",
          "text": [
            "/usr/local/lib/python3.8/dist-packages/keras/optimizers/optimizer_v2/adam.py:110: UserWarning: The `lr` argument is deprecated, use `learning_rate` instead.\n",
            "  super(Adam, self).__init__(name, **kwargs)\n"
          ]
        }
      ]
    },
    {
      "cell_type": "code",
      "source": [
        "direct_history = direct_model.fit(\n",
        "    train_gen,\n",
        "    epochs=epochs,\n",
        "    verbose=2,\n",
        "    validation_data=val_gen,\n",
        "    callbacks=[prediction_es],\n",
        ")"
      ],
      "metadata": {
        "colab": {
          "base_uri": "https://localhost:8080/"
        },
        "id": "nt99Jm7tmiSP",
        "outputId": "12341300-c91d-4dbd-8331-4afb5a746228"
      },
      "execution_count": 37,
      "outputs": [
        {
          "output_type": "stream",
          "name": "stdout",
          "text": [
            "Epoch 1/100\n",
            "1/1 - 3s - loss: 0.7020 - acc: 0.5600 - val_loss: 0.6884 - val_acc: 0.5627 - 3s/epoch - 3s/step\n",
            "Epoch 2/100\n",
            "1/1 - 2s - loss: 0.6866 - acc: 0.5600 - val_loss: 0.6848 - val_acc: 0.5627 - 2s/epoch - 2s/step\n",
            "Epoch 3/100\n",
            "1/1 - 1s - loss: 0.6856 - acc: 0.5600 - val_loss: 0.6884 - val_acc: 0.5627 - 1s/epoch - 1s/step\n",
            "Epoch 4/100\n",
            "1/1 - 2s - loss: 0.6890 - acc: 0.5600 - val_loss: 0.6908 - val_acc: 0.5627 - 2s/epoch - 2s/step\n",
            "Epoch 5/100\n",
            "1/1 - 2s - loss: 0.6896 - acc: 0.5600 - val_loss: 0.6898 - val_acc: 0.5627 - 2s/epoch - 2s/step\n",
            "Epoch 6/100\n",
            "1/1 - 2s - loss: 0.6893 - acc: 0.5600 - val_loss: 0.6871 - val_acc: 0.5627 - 2s/epoch - 2s/step\n",
            "Epoch 7/100\n",
            "1/1 - 1s - loss: 0.6841 - acc: 0.5600 - val_loss: 0.6850 - val_acc: 0.5627 - 1s/epoch - 1s/step\n",
            "Epoch 8/100\n",
            "1/1 - 1s - loss: 0.6851 - acc: 0.5600 - val_loss: 0.6844 - val_acc: 0.5627 - 1s/epoch - 1s/step\n",
            "Epoch 9/100\n",
            "1/1 - 1s - loss: 0.6825 - acc: 0.5600 - val_loss: 0.6851 - val_acc: 0.5627 - 1s/epoch - 1s/step\n",
            "Epoch 10/100\n",
            "1/1 - 2s - loss: 0.6829 - acc: 0.5600 - val_loss: 0.6864 - val_acc: 0.5627 - 2s/epoch - 2s/step\n",
            "Epoch 11/100\n",
            "1/1 - 1s - loss: 0.6836 - acc: 0.5600 - val_loss: 0.6872 - val_acc: 0.5627 - 1s/epoch - 1s/step\n",
            "Epoch 12/100\n",
            "1/1 - 1s - loss: 0.6834 - acc: 0.5600 - val_loss: 0.6872 - val_acc: 0.5627 - 1s/epoch - 1s/step\n",
            "Epoch 13/100\n",
            "1/1 - 2s - loss: 0.6828 - acc: 0.5600 - val_loss: 0.6865 - val_acc: 0.5627 - 2s/epoch - 2s/step\n",
            "Epoch 14/100\n",
            "1/1 - 2s - loss: 0.6846 - acc: 0.5600 - val_loss: 0.6856 - val_acc: 0.5627 - 2s/epoch - 2s/step\n",
            "Epoch 15/100\n",
            "1/1 - 1s - loss: 0.6803 - acc: 0.5600 - val_loss: 0.6851 - val_acc: 0.5627 - 1s/epoch - 1s/step\n",
            "Epoch 16/100\n",
            "1/1 - 1s - loss: 0.6814 - acc: 0.5600 - val_loss: 0.6850 - val_acc: 0.5627 - 1s/epoch - 1s/step\n",
            "Epoch 17/100\n",
            "1/1 - 2s - loss: 0.6811 - acc: 0.5600 - val_loss: 0.6854 - val_acc: 0.5627 - 2s/epoch - 2s/step\n",
            "Epoch 18/100\n",
            "1/1 - 1s - loss: 0.6810 - acc: 0.5600 - val_loss: 0.6860 - val_acc: 0.5627 - 1s/epoch - 1s/step\n",
            "Epoch 19/100\n",
            "1/1 - 1s - loss: 0.6818 - acc: 0.5600 - val_loss: 0.6863 - val_acc: 0.5573 - 1s/epoch - 1s/step\n",
            "Epoch 20/100\n",
            "1/1 - 1s - loss: 0.6803 - acc: 0.6200 - val_loss: 0.6862 - val_acc: 0.5587 - 1s/epoch - 1s/step\n",
            "Epoch 21/100\n",
            "1/1 - 2s - loss: 0.6784 - acc: 0.5600 - val_loss: 0.6859 - val_acc: 0.5627 - 2s/epoch - 2s/step\n",
            "Epoch 22/100\n",
            "1/1 - 2s - loss: 0.6798 - acc: 0.5600 - val_loss: 0.6855 - val_acc: 0.5627 - 2s/epoch - 2s/step\n",
            "Epoch 23/100\n",
            "1/1 - 1s - loss: 0.6774 - acc: 0.5600 - val_loss: 0.6853 - val_acc: 0.5627 - 1s/epoch - 1s/step\n",
            "Epoch 24/100\n",
            "1/1 - 1s - loss: 0.6751 - acc: 0.5600 - val_loss: 0.6853 - val_acc: 0.5627 - 1s/epoch - 1s/step\n",
            "Epoch 25/100\n",
            "1/1 - 2s - loss: 0.6778 - acc: 0.5600 - val_loss: 0.6854 - val_acc: 0.5627 - 2s/epoch - 2s/step\n",
            "Epoch 26/100\n",
            "1/1 - 2s - loss: 0.6761 - acc: 0.5600 - val_loss: 0.6855 - val_acc: 0.5627 - 2s/epoch - 2s/step\n",
            "Epoch 27/100\n",
            "1/1 - 2s - loss: 0.6763 - acc: 0.5600 - val_loss: 0.6855 - val_acc: 0.5627 - 2s/epoch - 2s/step\n",
            "Epoch 28/100\n",
            "1/1 - 2s - loss: 0.6774 - acc: 0.5600 - val_loss: 0.6854 - val_acc: 0.5627 - 2s/epoch - 2s/step\n",
            "Epoch 29/100\n",
            "1/1 - 2s - loss: 0.6764 - acc: 0.5600 - val_loss: 0.6851 - val_acc: 0.5627 - 2s/epoch - 2s/step\n",
            "Epoch 30/100\n",
            "1/1 - 2s - loss: 0.6763 - acc: 0.5600 - val_loss: 0.6847 - val_acc: 0.5627 - 2s/epoch - 2s/step\n",
            "Epoch 31/100\n",
            "1/1 - 2s - loss: 0.6749 - acc: 0.5600 - val_loss: 0.6845 - val_acc: 0.5627 - 2s/epoch - 2s/step\n",
            "Epoch 32/100\n",
            "1/1 - 2s - loss: 0.6761 - acc: 0.5600 - val_loss: 0.6844 - val_acc: 0.5627 - 2s/epoch - 2s/step\n",
            "Epoch 33/100\n",
            "1/1 - 2s - loss: 0.6719 - acc: 0.5600 - val_loss: 0.6843 - val_acc: 0.5707 - 2s/epoch - 2s/step\n",
            "Epoch 34/100\n",
            "1/1 - 2s - loss: 0.6715 - acc: 0.5800 - val_loss: 0.6841 - val_acc: 0.5573 - 2s/epoch - 2s/step\n",
            "Epoch 35/100\n",
            "1/1 - 2s - loss: 0.6705 - acc: 0.5800 - val_loss: 0.6839 - val_acc: 0.5560 - 2s/epoch - 2s/step\n",
            "Epoch 36/100\n",
            "1/1 - 2s - loss: 0.6685 - acc: 0.5400 - val_loss: 0.6836 - val_acc: 0.5573 - 2s/epoch - 2s/step\n",
            "Epoch 37/100\n",
            "1/1 - 2s - loss: 0.6702 - acc: 0.5200 - val_loss: 0.6833 - val_acc: 0.5667 - 2s/epoch - 2s/step\n",
            "Epoch 38/100\n",
            "1/1 - 2s - loss: 0.6670 - acc: 0.6200 - val_loss: 0.6829 - val_acc: 0.5627 - 2s/epoch - 2s/step\n",
            "Epoch 39/100\n",
            "1/1 - 2s - loss: 0.6732 - acc: 0.5800 - val_loss: 0.6826 - val_acc: 0.5627 - 2s/epoch - 2s/step\n",
            "Epoch 40/100\n",
            "1/1 - 2s - loss: 0.6713 - acc: 0.5600 - val_loss: 0.6824 - val_acc: 0.5627 - 2s/epoch - 2s/step\n",
            "Epoch 41/100\n",
            "1/1 - 2s - loss: 0.6705 - acc: 0.5600 - val_loss: 0.6821 - val_acc: 0.5627 - 2s/epoch - 2s/step\n",
            "Epoch 42/100\n",
            "1/1 - 2s - loss: 0.6662 - acc: 0.5600 - val_loss: 0.6817 - val_acc: 0.5627 - 2s/epoch - 2s/step\n",
            "Epoch 43/100\n",
            "1/1 - 2s - loss: 0.6651 - acc: 0.5600 - val_loss: 0.6813 - val_acc: 0.5627 - 2s/epoch - 2s/step\n",
            "Epoch 44/100\n",
            "1/1 - 2s - loss: 0.6639 - acc: 0.5600 - val_loss: 0.6808 - val_acc: 0.5627 - 2s/epoch - 2s/step\n",
            "Epoch 45/100\n",
            "1/1 - 2s - loss: 0.6623 - acc: 0.5600 - val_loss: 0.6804 - val_acc: 0.5627 - 2s/epoch - 2s/step\n",
            "Epoch 46/100\n",
            "1/1 - 1s - loss: 0.6662 - acc: 0.5600 - val_loss: 0.6800 - val_acc: 0.5560 - 1s/epoch - 1s/step\n",
            "Epoch 47/100\n",
            "1/1 - 2s - loss: 0.6572 - acc: 0.5800 - val_loss: 0.6796 - val_acc: 0.5600 - 2s/epoch - 2s/step\n",
            "Epoch 48/100\n",
            "1/1 - 2s - loss: 0.6584 - acc: 0.6600 - val_loss: 0.6793 - val_acc: 0.5520 - 2s/epoch - 2s/step\n",
            "Epoch 49/100\n",
            "1/1 - 2s - loss: 0.6530 - acc: 0.5800 - val_loss: 0.6788 - val_acc: 0.5547 - 2s/epoch - 2s/step\n",
            "Epoch 50/100\n",
            "1/1 - 2s - loss: 0.6580 - acc: 0.5600 - val_loss: 0.6783 - val_acc: 0.5600 - 2s/epoch - 2s/step\n",
            "Epoch 51/100\n",
            "1/1 - 2s - loss: 0.6583 - acc: 0.5200 - val_loss: 0.6777 - val_acc: 0.5613 - 2s/epoch - 2s/step\n",
            "Epoch 52/100\n",
            "1/1 - 2s - loss: 0.6519 - acc: 0.5600 - val_loss: 0.6770 - val_acc: 0.5733 - 2s/epoch - 2s/step\n",
            "Epoch 53/100\n",
            "1/1 - 1s - loss: 0.6470 - acc: 0.6000 - val_loss: 0.6764 - val_acc: 0.5640 - 1s/epoch - 1s/step\n",
            "Epoch 54/100\n",
            "1/1 - 1s - loss: 0.6442 - acc: 0.5400 - val_loss: 0.6758 - val_acc: 0.5653 - 1s/epoch - 1s/step\n",
            "Epoch 55/100\n",
            "1/1 - 1s - loss: 0.6430 - acc: 0.5800 - val_loss: 0.6752 - val_acc: 0.5707 - 1s/epoch - 1s/step\n",
            "Epoch 56/100\n",
            "1/1 - 2s - loss: 0.6467 - acc: 0.5800 - val_loss: 0.6746 - val_acc: 0.5827 - 2s/epoch - 2s/step\n",
            "Epoch 57/100\n",
            "1/1 - 1s - loss: 0.6437 - acc: 0.5600 - val_loss: 0.6739 - val_acc: 0.5933 - 1s/epoch - 1s/step\n",
            "Epoch 58/100\n",
            "1/1 - 1s - loss: 0.6402 - acc: 0.6200 - val_loss: 0.6733 - val_acc: 0.5933 - 1s/epoch - 1s/step\n",
            "Epoch 59/100\n",
            "1/1 - 2s - loss: 0.6395 - acc: 0.5600 - val_loss: 0.6728 - val_acc: 0.5867 - 2s/epoch - 2s/step\n",
            "Epoch 60/100\n",
            "1/1 - 2s - loss: 0.6376 - acc: 0.6400 - val_loss: 0.6723 - val_acc: 0.5893 - 2s/epoch - 2s/step\n",
            "Epoch 61/100\n",
            "1/1 - 2s - loss: 0.6305 - acc: 0.6000 - val_loss: 0.6717 - val_acc: 0.5907 - 2s/epoch - 2s/step\n",
            "Epoch 62/100\n",
            "1/1 - 2s - loss: 0.6293 - acc: 0.6200 - val_loss: 0.6711 - val_acc: 0.5853 - 2s/epoch - 2s/step\n",
            "Epoch 63/100\n",
            "1/1 - 2s - loss: 0.6321 - acc: 0.6200 - val_loss: 0.6706 - val_acc: 0.5880 - 2s/epoch - 2s/step\n",
            "Epoch 64/100\n",
            "1/1 - 2s - loss: 0.6183 - acc: 0.6600 - val_loss: 0.6700 - val_acc: 0.5880 - 2s/epoch - 2s/step\n",
            "Epoch 65/100\n",
            "1/1 - 2s - loss: 0.6200 - acc: 0.6400 - val_loss: 0.6694 - val_acc: 0.5893 - 2s/epoch - 2s/step\n",
            "Epoch 66/100\n",
            "1/1 - 2s - loss: 0.6172 - acc: 0.7000 - val_loss: 0.6690 - val_acc: 0.5907 - 2s/epoch - 2s/step\n",
            "Epoch 67/100\n",
            "1/1 - 1s - loss: 0.6174 - acc: 0.6400 - val_loss: 0.6687 - val_acc: 0.5853 - 1s/epoch - 1s/step\n",
            "Epoch 68/100\n",
            "1/1 - 2s - loss: 0.6082 - acc: 0.7200 - val_loss: 0.6687 - val_acc: 0.5773 - 2s/epoch - 2s/step\n",
            "Epoch 69/100\n",
            "1/1 - 2s - loss: 0.6143 - acc: 0.6600 - val_loss: 0.6682 - val_acc: 0.5787 - 2s/epoch - 2s/step\n",
            "Epoch 70/100\n",
            "1/1 - 2s - loss: 0.6058 - acc: 0.6600 - val_loss: 0.6677 - val_acc: 0.5840 - 2s/epoch - 2s/step\n",
            "Epoch 71/100\n",
            "1/1 - 1s - loss: 0.5992 - acc: 0.6400 - val_loss: 0.6675 - val_acc: 0.5840 - 1s/epoch - 1s/step\n",
            "Epoch 72/100\n",
            "1/1 - 1s - loss: 0.6038 - acc: 0.6200 - val_loss: 0.6673 - val_acc: 0.5853 - 1s/epoch - 1s/step\n",
            "Epoch 73/100\n",
            "1/1 - 1s - loss: 0.5969 - acc: 0.6600 - val_loss: 0.6670 - val_acc: 0.5827 - 1s/epoch - 1s/step\n",
            "Epoch 74/100\n",
            "1/1 - 1s - loss: 0.6140 - acc: 0.5400 - val_loss: 0.6670 - val_acc: 0.5907 - 1s/epoch - 1s/step\n",
            "Epoch 75/100\n",
            "1/1 - 2s - loss: 0.5853 - acc: 0.6600 - val_loss: 0.6672 - val_acc: 0.5920 - 2s/epoch - 2s/step\n",
            "Epoch 76/100\n",
            "1/1 - 2s - loss: 0.6104 - acc: 0.6000 - val_loss: 0.6673 - val_acc: 0.6000 - 2s/epoch - 2s/step\n",
            "Epoch 77/100\n",
            "1/1 - 1s - loss: 0.5955 - acc: 0.6600 - val_loss: 0.6678 - val_acc: 0.5920 - 1s/epoch - 1s/step\n",
            "Epoch 78/100\n",
            "1/1 - 1s - loss: 0.6073 - acc: 0.6200 - val_loss: 0.6688 - val_acc: 0.5893 - 1s/epoch - 1s/step\n",
            "Epoch 79/100\n",
            "1/1 - 1s - loss: 0.5979 - acc: 0.6000 - val_loss: 0.6695 - val_acc: 0.5853 - 1s/epoch - 1s/step\n",
            "Epoch 80/100\n",
            "1/1 - 1s - loss: 0.5943 - acc: 0.7000 - val_loss: 0.6704 - val_acc: 0.5907 - 1s/epoch - 1s/step\n",
            "Epoch 81/100\n",
            "1/1 - 1s - loss: 0.5899 - acc: 0.6800 - val_loss: 0.6700 - val_acc: 0.5907 - 1s/epoch - 1s/step\n",
            "Epoch 82/100\n",
            "1/1 - 1s - loss: 0.5949 - acc: 0.7000 - val_loss: 0.6691 - val_acc: 0.5960 - 1s/epoch - 1s/step\n",
            "Epoch 83/100\n",
            "1/1 - 1s - loss: 0.5848 - acc: 0.6400 - val_loss: 0.6700 - val_acc: 0.6053 - 1s/epoch - 1s/step\n",
            "Epoch 84/100\n",
            "1/1 - 1s - loss: 0.5966 - acc: 0.6400 - val_loss: 0.6705 - val_acc: 0.6040 - 1s/epoch - 1s/step\n",
            "Epoch 85/100\n",
            "1/1 - 1s - loss: 0.5792 - acc: 0.6400 - val_loss: 0.6707 - val_acc: 0.5987 - 1s/epoch - 1s/step\n",
            "Epoch 86/100\n",
            "1/1 - 1s - loss: 0.5835 - acc: 0.5600 - val_loss: 0.6735 - val_acc: 0.5800 - 1s/epoch - 1s/step\n",
            "Epoch 87/100\n",
            "1/1 - 1s - loss: 0.5613 - acc: 0.7400 - val_loss: 0.6772 - val_acc: 0.5693 - 1s/epoch - 1s/step\n",
            "Epoch 88/100\n",
            "1/1 - 2s - loss: 0.5633 - acc: 0.7000 - val_loss: 0.6764 - val_acc: 0.5867 - 2s/epoch - 2s/step\n",
            "Epoch 89/100\n",
            "1/1 - 1s - loss: 0.5853 - acc: 0.6800 - val_loss: 0.6750 - val_acc: 0.5787 - 1s/epoch - 1s/step\n",
            "Epoch 90/100\n",
            "1/1 - 2s - loss: 0.5675 - acc: 0.7200 - val_loss: 0.6747 - val_acc: 0.6000 - 2s/epoch - 2s/step\n",
            "Epoch 91/100\n",
            "1/1 - 1s - loss: 0.5601 - acc: 0.7600 - val_loss: 0.6752 - val_acc: 0.5933 - 1s/epoch - 1s/step\n",
            "Epoch 92/100\n",
            "1/1 - 2s - loss: 0.5630 - acc: 0.7200 - val_loss: 0.6763 - val_acc: 0.5933 - 2s/epoch - 2s/step\n",
            "Epoch 93/100\n",
            "1/1 - 1s - loss: 0.5668 - acc: 0.6400 - val_loss: 0.6775 - val_acc: 0.5907 - 1s/epoch - 1s/step\n",
            "Epoch 94/100\n",
            "1/1 - 1s - loss: 0.5565 - acc: 0.7000 - val_loss: 0.6779 - val_acc: 0.5973 - 1s/epoch - 1s/step\n",
            "Epoch 95/100\n",
            "1/1 - 2s - loss: 0.5797 - acc: 0.6000 - val_loss: 0.6803 - val_acc: 0.5840 - 2s/epoch - 2s/step\n",
            "Epoch 96/100\n",
            "1/1 - 2s - loss: 0.5503 - acc: 0.7200 - val_loss: 0.6842 - val_acc: 0.5667 - 2s/epoch - 2s/step\n",
            "Epoch 97/100\n",
            "1/1 - 2s - loss: 0.5537 - acc: 0.7200 - val_loss: 0.6883 - val_acc: 0.5520 - 2s/epoch - 2s/step\n",
            "Epoch 98/100\n",
            "1/1 - 1s - loss: 0.5468 - acc: 0.7000 - val_loss: 0.6896 - val_acc: 0.5493 - 1s/epoch - 1s/step\n",
            "Epoch 99/100\n",
            "1/1 - 1s - loss: 0.5447 - acc: 0.7200 - val_loss: 0.6878 - val_acc: 0.5693 - 1s/epoch - 1s/step\n",
            "Epoch 100/100\n",
            "1/1 - 3s - loss: 0.5327 - acc: 0.7600 - val_loss: 0.6871 - val_acc: 0.5760 - 3s/epoch - 3s/step\n"
          ]
        }
      ]
    },
    {
      "cell_type": "code",
      "source": [
        "sg.utils.plot_history(direct_history)"
      ],
      "metadata": {
        "colab": {
          "base_uri": "https://localhost:8080/",
          "height": 585
        },
        "id": "DqqkeysQmkEk",
        "outputId": "c2dad2c5-7133-4a74-bb49-4486001d9a80"
      },
      "execution_count": 38,
      "outputs": [
        {
          "output_type": "display_data",
          "data": {
            "text/plain": [
              "<Figure size 504x576 with 2 Axes>"
            ],
            "image/png": "[encoded data removed]"
          },
          "metadata": {
            "needs_background": "light"
          }
        }
      ]
    },
    {
      "cell_type": "code",
      "source": [
        "direct_test_metrics = dict(\n",
        "    zip(direct_model.metrics_names, direct_model.evaluate(test_gen))\n",
        ")\n",
        "print(direct_test_metrics)"
      ],
      "metadata": {
        "colab": {
          "base_uri": "https://localhost:8080/"
        },
        "id": "ieqtSAyWmtKH",
        "outputId": "d1975a25-60c4-4b5e-f124-fecd4366647e"
      },
      "execution_count": 39,
      "outputs": [
        {
          "output_type": "stream",
          "name": "stdout",
          "text": [
            "1/1 [==============================] - 1s 1s/step - loss: 0.6733 - acc: 0.5800\n",
            "{'loss': 0.6733227372169495, 'acc': 0.5799999833106995}\n"
          ]
        }
      ]
    },
    {
      "cell_type": "markdown",
      "source": [
        "Results"
      ],
      "metadata": {
        "id": "-GtHevU2t_Bt"
      }
    },
    {
      "cell_type": "code",
      "source": [
        "pd.DataFrame(\n",
        "    [pretrained_test_metrics, direct_test_metrics],\n",
        "    index=[\"with DGI pre-training\", \"without pre-training\"],\n",
        ").round(3)"
      ],
      "metadata": {
        "colab": {
          "base_uri": "https://localhost:8080/",
          "height": 112
        },
        "id": "k640n_LbmzYf",
        "outputId": "d3757e1e-bafa-43bb-b7a5-24f5aeb428c7"
      },
      "execution_count": 40,
      "outputs": [
        {
          "output_type": "execute_result",
          "data": {
            "text/plain": [
              "                        loss    acc\n",
              "with DGI pre-training  0.671  0.573\n",
              "without pre-training   0.673  0.580"
            ],
            "text/html": [
              "\n",
              "  <div id=\"df-ec4b5eda-7727-4036-8620-5f4a8198f621\">\n",
              "    <div class=\"colab-df-container\">\n",
              "      <div>\n",
              "<style scoped>\n",
              "    .dataframe tbody tr th:only-of-type {\n",
              "        vertical-align: middle;\n",
              "    }\n",
              "\n",
              "    .dataframe tbody tr th {\n",
              "        vertical-align: top;\n",
              "    }\n",
              "\n",
              "    .dataframe thead th {\n",
              "        text-align: right;\n",
              "    }\n",
              "</style>\n",
              "<table border=\"1\" class=\"dataframe\">\n",
              "  <thead>\n",
              "    <tr style=\"text-align: right;\">\n",
              "      <th></th>\n",
              "      <th>loss</th>\n",
              "      <th>acc</th>\n",
              "    </tr>\n",
              "  </thead>\n",
              "  <tbody>\n",
              "    <tr>\n",
              "      <th>with DGI pre-training</th>\n",
              "      <td>0.671</td>\n",
              "      <td>0.573</td>\n",
              "    </tr>\n",
              "    <tr>\n",
              "      <th>without pre-training</th>\n",
              "      <td>0.673</td>\n",
              "      <td>0.580</td>\n",
              "    </tr>\n",
              "  </tbody>\n",
              "</table>\n",
              "</div>\n",
              "      <button class=\"colab-df-convert\" onclick=\"convertToInteractive('df-ec4b5eda-7727-4036-8620-5f4a8198f621')\"\n",
              "              title=\"Convert this dataframe to an interactive table.\"\n",
              "              style=\"display:none;\">\n",
              "        \n",
              "  <svg xmlns=\"http://www.w3.org/2000/svg\" height=\"24px\"viewBox=\"0 0 24 24\"\n",
              "       width=\"24px\">\n",
              "    <path d=\"M0 0h24v24H0V0z\" fill=\"none\"/>\n",
              "    <path d=\"M18.56 5.44l.94 2.06.94-2.06 2.06-.94-2.06-.94-.94-2.06-.94 2.06-2.06.94zm-11 1L8.5 8.5l.94-2.06 2.06-.94-2.06-.94L8.5 2.5l-.94 2.06-2.06.94zm10 10l.94 2.06.94-2.06 2.06-.94-2.06-.94-.94-2.06-.94 2.06-2.06.94z\"/><path d=\"M17.41 7.96l-1.37-1.37c-.4-.4-.92-.59-1.43-.59-.52 0-1.04.2-1.43.59L10.3 9.45l-7.72 7.72c-.78.78-.78 2.05 0 2.83L4 21.41c.39.39.9.59 1.41.59.51 0 1.02-.2 1.41-.59l7.78-7.78 2.81-2.81c.8-.78.8-2.07 0-2.86zM5.41 20L4 18.59l7.72-7.72 1.47 1.35L5.41 20z\"/>\n",
              "  </svg>\n",
              "      </button>\n",
              "      \n",
              "  <style>\n",
              "    .colab-df-container {\n",
              "      display:flex;\n",
              "      flex-wrap:wrap;\n",
              "      gap: 12px;\n",
              "    }\n",
              "\n",
              "    .colab-df-convert {\n",
              "      background-color: #E8F0FE;\n",
              "      border: none;\n",
              "      border-radius: 50%;\n",
              "      cursor: pointer;\n",
              "      display: none;\n",
              "      fill: #1967D2;\n",
              "      height: 32px;\n",
              "      padding: 0 0 0 0;\n",
              "      width: 32px;\n",
              "    }\n",
              "\n",
              "    .colab-df-convert:hover {\n",
              "      background-color: #E2EBFA;\n",
              "      box-shadow: 0px 1px 2px rgba(60, 64, 67, 0.3), 0px 1px 3px 1px rgba(60, 64, 67, 0.15);\n",
              "      fill: #174EA6;\n",
              "    }\n",
              "\n",
              "    [theme=dark] .colab-df-convert {\n",
              "      background-color: #3B4455;\n",
              "      fill: #D2E3FC;\n",
              "    }\n",
              "\n",
              "    [theme=dark] .colab-df-convert:hover {\n",
              "      background-color: #434B5C;\n",
              "      box-shadow: 0px 1px 3px 1px rgba(0, 0, 0, 0.15);\n",
              "      filter: drop-shadow(0px 1px 2px rgba(0, 0, 0, 0.3));\n",
              "      fill: #FFFFFF;\n",
              "    }\n",
              "  </style>\n",
              "\n",
              "      <script>\n",
              "        const buttonEl =\n",
              "          document.querySelector('#df-ec4b5eda-7727-4036-8620-5f4a8198f621 button.colab-df-convert');\n",
              "        buttonEl.style.display =\n",
              "          google.colab.kernel.accessAllowed ? 'block' : 'none';\n",
              "\n",
              "        async function convertToInteractive(key) {\n",
              "          const element = document.querySelector('#df-ec4b5eda-7727-4036-8620-5f4a8198f621');\n",
              "          const dataTable =\n",
              "            await google.colab.kernel.invokeFunction('convertToInteractive',\n",
              "                                                     [key], {});\n",
              "          if (!dataTable) return;\n",
              "\n",
              "          const docLinkHtml = 'Like what you see? Visit the ' +\n",
              "            '<a target=\"_blank\" href=https://colab.research.google.com/notebooks/data_table.ipynb>data table notebook</a>'\n",
              "            + ' to learn more about interactive tables.';\n",
              "          element.innerHTML = '';\n",
              "          dataTable['output_type'] = 'display_data';\n",
              "          await google.colab.output.renderOutput(dataTable, element);\n",
              "          const docLink = document.createElement('div');\n",
              "          docLink.innerHTML = docLinkHtml;\n",
              "          element.appendChild(docLink);\n",
              "        }\n",
              "      </script>\n",
              "    </div>\n",
              "  </div>\n",
              "  "
            ]
          },
          "metadata": {},
          "execution_count": 40
        }
      ]
    },
    {
      "cell_type": "code",
      "source": [
        "dir_hist=direct_model.evaluate(test_gen)\n",
        "pre_hist=pretrained_model.evaluate(test_gen)"
      ],
      "metadata": {
        "colab": {
          "base_uri": "https://localhost:8080/"
        },
        "id": "3S__HNY6bMnr",
        "outputId": "12d3265d-5a49-4044-bd7c-b2e78652c77d"
      },
      "execution_count": 56,
      "outputs": [
        {
          "output_type": "stream",
          "name": "stdout",
          "text": [
            "1/1 [==============================] - 1s 597ms/step - loss: 0.6733 - acc: 0.5800\n",
            "1/1 [==============================] - 1s 611ms/step - loss: 0.6707 - acc: 0.5729\n"
          ]
        }
      ]
    },
    {
      "cell_type": "code",
      "source": [
        "print('testing acc for direct={0:.2%}'.format(dir_hist[1]))\n",
        "print('testing acc for pretrained={0:.2%}'.format(pre_hist[1]))"
      ],
      "metadata": {
        "colab": {
          "base_uri": "https://localhost:8080/"
        },
        "id": "WrFWB_uZbX1r",
        "outputId": "99d8578a-3183-41af-a9e4-4a5fcd0e6e8c"
      },
      "execution_count": 57,
      "outputs": [
        {
          "output_type": "stream",
          "name": "stdout",
          "text": [
            "testing acc for direct=58.00%\n",
            "testing acc for pretrained=57.29%\n"
          ]
        }
      ]
    },
    {
      "cell_type": "code",
      "source": [
        "dir_hist1=direct_model.evaluate(val_gen)\n",
        "pre_hist1=pretrained_model.evaluate(val_gen)"
      ],
      "metadata": {
        "colab": {
          "base_uri": "https://localhost:8080/"
        },
        "id": "KGMsinlmc8Ac",
        "outputId": "3763f21e-e3c6-402f-dbd1-c59c071fbd04"
      },
      "execution_count": 58,
      "outputs": [
        {
          "output_type": "stream",
          "name": "stdout",
          "text": [
            "1/1 [==============================] - 1s 815ms/step - loss: 0.6871 - acc: 0.5760\n",
            "1/1 [==============================] - 1s 615ms/step - loss: 0.6697 - acc: 0.5747\n"
          ]
        }
      ]
    },
    {
      "cell_type": "code",
      "source": [
        "print('validation acc for direct={0:.2%}'.format(dir_hist1[1]))\n",
        "print('validation acc for pretrained={0:.2%}'.format(pre_hist1[1]))"
      ],
      "metadata": {
        "colab": {
          "base_uri": "https://localhost:8080/"
        },
        "id": "cPyW72SLdEdb",
        "outputId": "8b418f8e-1a20-474c-b9b4-f06bc8fd6fde"
      },
      "execution_count": 59,
      "outputs": [
        {
          "output_type": "stream",
          "name": "stdout",
          "text": [
            "validation acc for direct=57.60%\n",
            "validation acc for pretrained=57.47%\n"
          ]
        }
      ]
    }
  ]
}